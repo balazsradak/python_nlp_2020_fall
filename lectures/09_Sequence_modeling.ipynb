{
 "cells": [
  {
   "cell_type": "markdown",
   "metadata": {},
   "source": [
    "# Introduction to Python and Natural Language Technologies\n",
    "\n",
    "__Lecture 9, Sequence modeling__\n",
    "\n",
    "__Nov 18, 2020__\n",
    "\n",
    "__Judit Ács__"
   ]
  },
  {
   "cell_type": "markdown",
   "metadata": {},
   "source": [
    "# Agenda\n",
    "\n",
    "1. Overview of sequence modeling\n",
    "    - Sequence elements\n",
    "    - Types of models\n",
    "    - Some applications\n",
    "2. A bare bone sequence classification example\n",
    "    - Cover the details of modeling and training\n",
    "    - Data preparation with Pandas\n",
    "    - Training on a small task that runs quickly on a laptop CPU \n",
    "    - Use advanced Python features instead of `torchtext`"
   ]
  },
  {
   "cell_type": "code",
   "execution_count": 1,
   "metadata": {},
   "outputs": [],
   "source": [
    "import pandas as pd\n",
    "import numpy as np\n",
    "import matplotlib.pyplot as plt\n",
    "import seaborn as sns\n",
    "\n",
    "from collections import defaultdict"
   ]
  },
  {
   "cell_type": "markdown",
   "metadata": {},
   "source": [
    "Standard `torch` imports:"
   ]
  },
  {
   "cell_type": "code",
   "execution_count": 2,
   "metadata": {},
   "outputs": [],
   "source": [
    "import torch\n",
    "import torch.nn as nn\n",
    "import torch.optim as optim"
   ]
  },
  {
   "cell_type": "markdown",
   "metadata": {},
   "source": [
    "# Sequence elements\n",
    "\n",
    "We deal with sequences in NLP:\n",
    "- a token is a sequence of characters/morphemes\n",
    "- a sentence is a sequence of tokens\n",
    "- a paragraph is a sequence of sentences\n",
    "- a dialogue is a sequence of utterances\n",
    "- etc.\n",
    "\n",
    "What are the elements of these sequences?"
   ]
  },
  {
   "cell_type": "markdown",
   "metadata": {},
   "source": [
    "## Words\n",
    "\n",
    "Pros:\n",
    "\n",
    "- More or less well-defined in most languages\n",
    "- Relatively short sequences (a sentence is rarely longer than 30 tokens)\n",
    "\n",
    "Cons:\n",
    "- Difficult tokenization in some languages\n",
    "- Large vocabulary (100,000+ easily)\n",
    "- Out-of-vocabulary words are always there regardless of the size of the vocabulary\n",
    "- Many rare words\n",
    "    - Hapax: a word that only appears once in the dataset."
   ]
  },
  {
   "cell_type": "markdown",
   "metadata": {},
   "source": [
    "## Characters\n",
    "\n",
    "Pros:\n",
    "- Smaller vocabulary although logographic writing systems (Chinese and Japanese) have thousands of characters\n",
    "- Easy tokenization\n",
    "- Well defined: Unicode symbols\n",
    "\n",
    "Cons:\n",
    "- Long sequences\n",
    "- Too fine-grained, token level information is lost"
   ]
  },
  {
   "cell_type": "markdown",
   "metadata": {},
   "source": [
    "## Subwords\n",
    "\n",
    "- Multiple characters but smaller than words\n",
    "- Modern language models use subword vocabularies\n",
    "- We will cover these next week"
   ]
  },
  {
   "cell_type": "markdown",
   "metadata": {},
   "source": [
    "# Sequence classification\n",
    "\n",
    "Assign a single label to the full sequence:\n",
    "\n",
    "<img src=\"img/tikz/abstract_sequence_classification.png\" width=\"350\" />"
   ]
  },
  {
   "cell_type": "markdown",
   "metadata": {},
   "source": [
    "__Applications__\n",
    "\n",
    "- Topic classification (AG News dataset from Lab 9)\n",
    "- Sentiment analysis: is this sentence or paragraph a positive (1) or a negative (0) review?"
   ]
  },
  {
   "cell_type": "markdown",
   "metadata": {},
   "source": [
    "<img src=\"img/tikz/example_sequence_classification.png\" width=\"500\" />"
   ]
  },
  {
   "cell_type": "markdown",
   "metadata": {},
   "source": [
    "# Sequence tagging\n",
    "\n",
    "Assign a label to each element of the sequence:\n",
    "\n",
    "<img src=\"img/tikz/abstract_sequence_tagging.png\">"
   ]
  },
  {
   "cell_type": "markdown",
   "metadata": {},
   "source": [
    "__Applications__\n",
    "\n",
    "- part-of-speech tagging\n",
    "- named entity recognition (NER)\n",
    "\n",
    "<img src=\"img/tikz/example_sequence_tagging.png\" >"
   ]
  },
  {
   "cell_type": "markdown",
   "metadata": {},
   "source": [
    "# Seq2seq\n",
    "\n",
    "<img src=\"img/tikz/abstract_seq2seq.png\" width=600px>\n",
    "\n",
    "- Maps a source sequence to a target sequence\n",
    "    - Arbitrary length\n",
    "- Two steps:\n",
    "    1. Encode: create a representation of the source\n",
    "    2. Decode: generate the target representation\n",
    "        - autoregressive: generate tokens one-by-one (condition on the left context)\n",
    "        \n",
    "- Usually implemented as two separate neural networks for example:\n",
    "    - The encoder is a bidirectional LSTM\n",
    "    - The decoder is a unidirectional LSTM\n",
    "    \n",
    "- Applications:\n",
    "    - Neural machine translation\n",
    "    - Morphological analysis"
   ]
  },
  {
   "cell_type": "markdown",
   "metadata": {},
   "source": [
    "# Attention\n",
    "\n",
    "Seq2seq performs poorly in its naive form since the decoder has to generate the whole output based on a single hidden vector that represents the full input sequence.\n",
    "\n",
    "**Attention** gives peak into the input sequence [image source](https://aihub.cloud.google.com/u/0/p/products%2F024b89fd-9bc8-4c24-b8a8-e347479f3270):\n",
    "    \n",
    "<img src=\"img/dl/attention_mechanism.jpg\" width=600px>"
   ]
  },
  {
   "cell_type": "markdown",
   "metadata": {},
   "source": [
    "# Other tasks\n",
    "\n",
    "There are many other NLP tasks that are solved with some combination of the above models.\n",
    "\n",
    "- Sentence pair classification: the same as sequence classification except we assign a label to a __pair__ of sentences\n",
    "- Examples:\n",
    "    - paraphrase identification\n",
    "- Span level tasks"
   ]
  },
  {
   "cell_type": "markdown",
   "metadata": {},
   "source": [
    "# Sequence classification example\n",
    "\n",
    "We will now train a sequence classification model on Hungarian morphology. This model can be trained on a laptop CPU."
   ]
  },
  {
   "cell_type": "markdown",
   "metadata": {},
   "source": [
    "## Backpropagation\n",
    "\n",
    "\n",
    "Neural networks are usually trained with the [backpropagation](https://en.wikipedia.org/wiki/Backpropagation) algorithm.\n",
    "\n",
    "The data flow in neural networks implicitly defines a **computation graph**, this is called **forward pass**.\n",
    "\n",
    "The output is compared against the ground truth or label and the difference or cost is quantified by **loss function** also called **cost function**.\n",
    "\n",
    "If the loss function is differentiable with respect to the parameters, we can compute the gradient w.r.t. to all parameters i.e. we can quantify 'how responsible' a parameter is for the loss using the chain rule. This is called **backpropagation**.\n",
    "\n",
    "An optimizer then updates the parameters. The update is proportional to the gradient. This is called **gradient descent**.\n",
    "\n",
    "More information: [Backpropagation chapter](https://www.deeplearningbook.org/contents/mlp.html#pf25) from [Deep Learning](https://www.deeplearningbook.org/) by Goodfellow, Bengio and Courville\n",
    "\n",
    "We will now discuss the building blocks of the sequence classifier."
   ]
  },
  {
   "cell_type": "markdown",
   "metadata": {},
   "source": [
    "## `nn.Embedding`\n",
    "\n",
    "`nn.Embedding` maps integers to continuous vectors. Its mandatory parameters are:\n",
    "- `num_embeddings`: the size of the vocabulary\n",
    "- `embedding_dim`: the size of the embedding"
   ]
  },
  {
   "cell_type": "code",
   "execution_count": 3,
   "metadata": {},
   "outputs": [
    {
     "data": {
      "text/plain": [
       "tensor([[ 0.4465,  0.3013, -0.1748],\n",
       "        [ 0.2859, -0.5334, -0.8900]], grad_fn=<EmbeddingBackward>)"
      ]
     },
     "execution_count": 3,
     "metadata": {},
     "output_type": "execute_result"
    }
   ],
   "source": [
    "embedding = nn.Embedding(5, 3)\n",
    "embedding(torch.LongTensor([1, 4]))\n",
    "# embedding(torch.LongTensor([1, 5]))  # raises IndexError"
   ]
  },
  {
   "cell_type": "markdown",
   "metadata": {},
   "source": [
    "Works with higher order tensors:"
   ]
  },
  {
   "cell_type": "code",
   "execution_count": 4,
   "metadata": {},
   "outputs": [
    {
     "name": "stdout",
     "output_type": "stream",
     "text": [
      "input_tensor.size() = torch.Size([2, 2])\n",
      "emb.size() = torch.Size([2, 2, 3])\n"
     ]
    },
    {
     "data": {
      "text/plain": [
       "tensor([[[ 0.4465,  0.3013, -0.1748],\n",
       "         [-0.2726, -1.0536, -1.2236]],\n",
       "\n",
       "        [[-0.9899,  0.0360,  0.0744],\n",
       "         [ 0.4465,  0.3013, -0.1748]]], grad_fn=<EmbeddingBackward>)"
      ]
     },
     "execution_count": 4,
     "metadata": {},
     "output_type": "execute_result"
    }
   ],
   "source": [
    "input_tensor = torch.LongTensor(\n",
    "    [[1, 2], [0, 1]]\n",
    ")\n",
    "emb = embedding(input_tensor)\n",
    "print(f\"{input_tensor.size() = }\")\n",
    "print(f\"{emb.size() = }\")\n",
    "emb"
   ]
  },
  {
   "cell_type": "code",
   "execution_count": 5,
   "metadata": {},
   "outputs": [
    {
     "name": "stdout",
     "output_type": "stream",
     "text": [
      "input_tensor.size() = torch.Size([1, 2, 2])\n",
      "emb.size() = torch.Size([1, 2, 2, 3])\n"
     ]
    },
    {
     "data": {
      "text/plain": [
       "tensor([[[[ 0.4465,  0.3013, -0.1748],\n",
       "          [-0.2726, -1.0536, -1.2236]],\n",
       "\n",
       "         [[-0.9899,  0.0360,  0.0744],\n",
       "          [ 0.4465,  0.3013, -0.1748]]]], grad_fn=<EmbeddingBackward>)"
      ]
     },
     "execution_count": 5,
     "metadata": {},
     "output_type": "execute_result"
    }
   ],
   "source": [
    "input_tensor = torch.LongTensor(\n",
    "    [[[1, 2], [0, 1]]]\n",
    ")\n",
    "emb = embedding(input_tensor)\n",
    "print(f\"{input_tensor.size() = }\")\n",
    "print(f\"{emb.size() = }\")\n",
    "emb"
   ]
  },
  {
   "cell_type": "markdown",
   "metadata": {},
   "source": [
    "## `nn.LSTM`\n",
    "\n",
    "LSTM is the most popular recurrent cell that takes a sequence as an input and processes it one by one while updating its hidden state. Its parameters are (from [here](https://pytorch.org/docs/stable/generated/torch.nn.LSTM.html?highlight=lstm#torch.nn.LSTM)):\n",
    "- `input_size`: The number of expected features in the input x\n",
    "- `hidden_size`: The number of features in the hidden state h\n",
    "- `num_layers`: Number of recurrent layers. E.g., setting num_layers=2 would mean stacking two LSTMs together to form a stacked LSTM, with the second LSTM taking in outputs of the first LSTM and computing the final results. Default: 1\n",
    "- `bias`: If False, then the layer does not use bias weights b_ih and b_hh. Default: True\n",
    "- `batch_first`: If True, then the input and output tensors are provided as (batch, seq, feature). Default: False\n",
    "- `dropout`: If non-zero, introduces a Dropout layer on the outputs of each LSTM layer except the last layer, with dropout probability equal to dropout. Default: 0\n",
    "- `bidirectional`: If True, becomes a bidirectional LSTM. Default: False\n",
    "\n",
    "Its input **must** be 3D:"
   ]
  },
  {
   "cell_type": "code",
   "execution_count": 6,
   "metadata": {},
   "outputs": [],
   "source": [
    "lstm = nn.LSTM(5, 12, num_layers=1, bidirectional=False, batch_first=True, dropout=0)\n",
    "\n",
    "input_tensor = torch.rand((3, 2))\n",
    "# lstm(input_tensor)  # raises RunTimeError"
   ]
  },
  {
   "cell_type": "code",
   "execution_count": 7,
   "metadata": {},
   "outputs": [
    {
     "name": "stdout",
     "output_type": "stream",
     "text": [
      "outputs.size() = torch.Size([3, 2, 12])\n",
      "h.size() = torch.Size([1, 3, 12])\n",
      "c.size() = torch.Size([1, 3, 12])\n"
     ]
    }
   ],
   "source": [
    "# batch_size X sequence_length X input_size\n",
    "# 3 X 2 X 5\n",
    "input_tensor = torch.rand((3, 2, 5))\n",
    "outputs, (h, c) = lstm(input_tensor)\n",
    "\n",
    "print(f\"{outputs.size() = }\")\n",
    "print(f\"{h.size() = }\")\n",
    "print(f\"{c.size() = }\")"
   ]
  },
  {
   "cell_type": "markdown",
   "metadata": {},
   "source": [
    "In practice we generally use bidirectional LSTMs, which are implemented as two unidirectional LSTMs.\n",
    "\n",
    "`h` and `c` are now the final states of both unidirectional LSTMs:"
   ]
  },
  {
   "cell_type": "code",
   "execution_count": 8,
   "metadata": {},
   "outputs": [
    {
     "name": "stdout",
     "output_type": "stream",
     "text": [
      "outputs.size() = torch.Size([3, 2, 24])\n",
      "h.size() = torch.Size([2, 3, 12])\n",
      "c.size() = torch.Size([2, 3, 12])\n"
     ]
    }
   ],
   "source": [
    "lstm = nn.LSTM(5, 12, num_layers=1, bidirectional=True, batch_first=True, dropout=0)\n",
    "\n",
    "input_tensor = torch.rand((3, 2, 5))\n",
    "outputs, (h, c) = lstm(input_tensor)\n",
    "\n",
    "print(f\"{outputs.size() = }\")\n",
    "print(f\"{h.size() = }\")\n",
    "print(f\"{c.size() = }\")"
   ]
  },
  {
   "cell_type": "code",
   "execution_count": 9,
   "metadata": {},
   "outputs": [
    {
     "name": "stdout",
     "output_type": "stream",
     "text": [
      "outputs.size() = torch.Size([3, 2, 24])\n",
      "h.size() = torch.Size([6, 3, 12])\n",
      "c.size() = torch.Size([6, 3, 12])\n"
     ]
    }
   ],
   "source": [
    "lstm = nn.LSTM(5, 12, num_layers=3, bidirectional=True, batch_first=True, dropout=0)\n",
    "\n",
    "input_tensor = torch.rand((3, 2, 5))\n",
    "outputs, (h, c) = lstm(input_tensor)\n",
    "\n",
    "print(f\"{outputs.size() = }\")\n",
    "print(f\"{h.size() = }\")\n",
    "print(f\"{c.size() = }\")"
   ]
  },
  {
   "cell_type": "markdown",
   "metadata": {},
   "source": [
    "## Combining `nn.LSTM` with `nn.Embedding`"
   ]
  },
  {
   "cell_type": "code",
   "execution_count": 10,
   "metadata": {},
   "outputs": [],
   "source": [
    "# model parameters\n",
    "vocab_size = 10\n",
    "embedding_size = 5\n",
    "lstm_hidden_size = 6\n",
    "\n",
    "embedding = nn.Embedding(vocab_size, embedding_size)\n",
    "lstm = nn.LSTM(embedding_size, lstm_hidden_size, num_layers=1, bidirectional=True, batch_first=True, dropout=0)"
   ]
  },
  {
   "cell_type": "code",
   "execution_count": 11,
   "metadata": {},
   "outputs": [
    {
     "data": {
      "text/plain": [
       "tensor([[8, 2, 0, 1],\n",
       "        [8, 9, 6, 8],\n",
       "        [3, 1, 8, 5]])"
      ]
     },
     "execution_count": 11,
     "metadata": {},
     "output_type": "execute_result"
    }
   ],
   "source": [
    "# input parameters (not that these are independent of the model)\n",
    "batch_size = 3\n",
    "sequence_length = 4\n",
    "\n",
    "input_ids = torch.randint(vocab_size, (batch_size, sequence_length))\n",
    "input_ids"
   ]
  },
  {
   "cell_type": "code",
   "execution_count": 12,
   "metadata": {},
   "outputs": [
    {
     "name": "stdout",
     "output_type": "stream",
     "text": [
      "input_ids.size() = torch.Size([3, 4])\n",
      "embedded.size() = torch.Size([3, 4, 5])\n",
      "outputs.size() = torch.Size([3, 4, 12])\n",
      "h.size() = torch.Size([2, 3, 6])\n",
      "c.size() = torch.Size([2, 3, 6])\n"
     ]
    }
   ],
   "source": [
    "embedded = embedding(input_ids)\n",
    "outputs, (h, c) = lstm(embedded)\n",
    "\n",
    "print(f\"{input_ids.size() = }\")\n",
    "print(f\"{embedded.size() = }\")\n",
    "print(f\"{outputs.size() = }\")\n",
    "print(f\"{h.size() = }\")\n",
    "print(f\"{c.size() = }\")"
   ]
  },
  {
   "cell_type": "markdown",
   "metadata": {},
   "source": [
    "## `nn.Linear`\n",
    "\n",
    "`nn.Linear` implements a matrix projection:"
   ]
  },
  {
   "cell_type": "code",
   "execution_count": 13,
   "metadata": {},
   "outputs": [
    {
     "name": "stdout",
     "output_type": "stream",
     "text": [
      "output.size() = torch.Size([2, 5])\n"
     ]
    }
   ],
   "source": [
    "dense = nn.Linear(3, 5)\n",
    "input_tensor = torch.rand((2, 3))\n",
    "output = dense(input_tensor)\n",
    "print(f\"{output.size() = }\")"
   ]
  },
  {
   "cell_type": "markdown",
   "metadata": {},
   "source": [
    "Inner dimensions must match:"
   ]
  },
  {
   "cell_type": "code",
   "execution_count": 14,
   "metadata": {},
   "outputs": [],
   "source": [
    "input_tensor = torch.rand((2, 4))\n",
    "# output = dense(input_tensor)  # raises RuntimeError"
   ]
  },
  {
   "cell_type": "markdown",
   "metadata": {},
   "source": [
    "## The `LSTMTagger` class\n",
    "\n",
    "We can now define our own LSTM sequence tagger model.\n",
    "\n",
    "All PyTorch modules must subclass `nn.Module` (or one of its subclasses) and call `init` before any attribute assignment.\n",
    "\n",
    "There two methods we have to implement:\n",
    "- `__init__`: defines submodules. These constitute the nodes _computation graph_.\n",
    "- `forward` implements the forward pass of the module. This is how we map the input to the output. The way we pass the input through the module implicitly builds a directed graph of the submodules named _computation graph_.\n",
    "\n",
    "The backward pass is automatically handled by PyTorch but it can be overriden by implementind the `backward` method."
   ]
  },
  {
   "cell_type": "code",
   "execution_count": 15,
   "metadata": {},
   "outputs": [
    {
     "data": {
      "text/plain": [
       "tensor([[-0.2357,  0.0987],\n",
       "        [-0.2357,  0.0987],\n",
       "        [-0.2170,  0.1176],\n",
       "        [-0.3602,  0.0629]], grad_fn=<AddmmBackward>)"
      ]
     },
     "execution_count": 15,
     "metadata": {},
     "output_type": "execute_result"
    }
   ],
   "source": [
    "class LSTMTagger(nn.Module):\n",
    "    def __init__(self, input_size, embedding_size, hidden_size, output_size):\n",
    "        super().__init__()\n",
    "        self.embedding = nn.Embedding(input_size, embedding_size)\n",
    "        self.lstm = nn.LSTM(\n",
    "            input_size=embedding_size,\n",
    "            hidden_size=hidden_size,\n",
    "            num_layers=1,\n",
    "            bidirectional=True,\n",
    "            batch_first=True,\n",
    "        )\n",
    "        self.dense = nn.Linear(hidden_size * 2, output_size)\n",
    "        \n",
    "    def forward(self, sequences):\n",
    "        # sequences: batch_size X sequence_length\n",
    "        embedded = self.embedding(sequences)\n",
    "        \n",
    "        # lstm_outputs: batch_size X sequence_length X 2*hidden_size\n",
    "        # h: 2 X batch_size X hidden_size\n",
    "        # c: 2 X batch_size X hidden_size\n",
    "        lstm_outputs, (h, c) = self.lstm(embedded)\n",
    "        \n",
    "        # h: batch_size X 2*hidden_size\n",
    "        h = torch.cat((h[0], h[1]), dim=-1)\n",
    "        \n",
    "        # output: batch_size X output_size\n",
    "        output = self.dense(h)\n",
    "        return output\n",
    "        \n",
    "        \n",
    "toy_tagger = LSTMTagger(3, 10, 5, 2)\n",
    "toy_input = torch.LongTensor([\n",
    "    [0, 1, 0, 2],\n",
    "    [0, 1, 0, 2],\n",
    "    [0, 0, 0, 2],\n",
    "    [1, 1, 2, 0],\n",
    "])\n",
    "toy_tagger(toy_input)"
   ]
  },
  {
   "cell_type": "markdown",
   "metadata": {},
   "source": [
    "### Under the hood\n",
    "\n",
    "PyTorch registers every attribute in `__init__` that is an instance of `nn.Module` in the parameters of the module:"
   ]
  },
  {
   "cell_type": "code",
   "execution_count": 16,
   "metadata": {},
   "outputs": [
    {
     "name": "stdout",
     "output_type": "stream",
     "text": [
      "name: embedding.weight, size: torch.Size([3, 10])\n",
      "name: lstm.weight_ih_l0, size: torch.Size([20, 10])\n",
      "name: lstm.weight_hh_l0, size: torch.Size([20, 5])\n",
      "name: lstm.bias_ih_l0, size: torch.Size([20])\n",
      "name: lstm.bias_hh_l0, size: torch.Size([20])\n",
      "name: lstm.weight_ih_l0_reverse, size: torch.Size([20, 10])\n",
      "name: lstm.weight_hh_l0_reverse, size: torch.Size([20, 5])\n",
      "name: lstm.bias_ih_l0_reverse, size: torch.Size([20])\n",
      "name: lstm.bias_hh_l0_reverse, size: torch.Size([20])\n",
      "name: dense.weight, size: torch.Size([2, 10])\n",
      "name: dense.bias, size: torch.Size([2])\n"
     ]
    }
   ],
   "source": [
    "for param in toy_tagger.named_parameters():\n",
    "    print(f\"name: {param[0]}, size: {param[1].size()}\")"
   ]
  },
  {
   "cell_type": "markdown",
   "metadata": {},
   "source": [
    "This is **not** true for lists and other complex data types. PyTorch does not attempt to traverse them:"
   ]
  },
  {
   "cell_type": "code",
   "execution_count": 17,
   "metadata": {},
   "outputs": [],
   "source": [
    "class SimpleModule(nn.Module):\n",
    "    def __init__(self):\n",
    "        super().__init__()\n",
    "        self.layers = [nn.Linear(12, 4), nn.Linear(15, 9)]\n",
    "        \n",
    "for param in SimpleModule().parameters():\n",
    "    print(param.size())"
   ]
  },
  {
   "cell_type": "markdown",
   "metadata": {},
   "source": [
    "The solution is `nn.ModuleList` or `nn.Sequential`:"
   ]
  },
  {
   "cell_type": "code",
   "execution_count": 18,
   "metadata": {},
   "outputs": [
    {
     "name": "stdout",
     "output_type": "stream",
     "text": [
      "name: layers.0.weight, size: torch.Size([4, 12])\n",
      "name: layers.0.bias, size: torch.Size([4])\n",
      "name: layers.1.weight, size: torch.Size([9, 15])\n",
      "name: layers.1.bias, size: torch.Size([9])\n"
     ]
    }
   ],
   "source": [
    "class SimpleModule(nn.Module):\n",
    "    def __init__(self):\n",
    "        super().__init__()\n",
    "        self.layers = nn.ModuleList([nn.Linear(12, 4), nn.Linear(15, 9)])\n",
    "        \n",
    "for param in SimpleModule().named_parameters():\n",
    "    print(f\"name: {param[0]}, size: {param[1].size()}\")"
   ]
  },
  {
   "cell_type": "markdown",
   "metadata": {},
   "source": [
    "`nn.Sequential` chains multiple modules:"
   ]
  },
  {
   "cell_type": "code",
   "execution_count": 19,
   "metadata": {},
   "outputs": [
    {
     "name": "stdout",
     "output_type": "stream",
     "text": [
      "name: layers.0.weight, size: torch.Size([4, 12])\n",
      "name: layers.0.bias, size: torch.Size([4])\n",
      "name: layers.2.weight, size: torch.Size([9, 15])\n",
      "name: layers.2.bias, size: torch.Size([9])\n"
     ]
    }
   ],
   "source": [
    "class SimpleModule(nn.Module):\n",
    "    def __init__(self):\n",
    "        super().__init__()\n",
    "        self.layers = nn.Sequential(\n",
    "            nn.Linear(12, 4),\n",
    "            nn.ReLU(),\n",
    "            nn.Linear(15, 9),\n",
    "            nn.Tanh(),\n",
    "        )\n",
    "        \n",
    "    def forward(self, input):\n",
    "        out = self.layers(out)\n",
    "        return out\n",
    "    \n",
    "        \n",
    "for param in SimpleModule().named_parameters():\n",
    "    print(f\"name: {param[0]}, size: {param[1].size()}\")"
   ]
  },
  {
   "cell_type": "markdown",
   "metadata": {},
   "source": [
    "## Data preparation\n",
    "\n",
    "We will now train a small classifier that predicts the case of Hungarian nouns. Hungarian has a rich case system in place of prefixes used by English. Some examples are:\n",
    "\n",
    "| Case | Hungarian | English |\n",
    "| ---- | ---- | ---- |\n",
    "| Nominative | ház | house |\n",
    "| Instrumental | házzal | with (a) house |\n",
    "| Ablative  | háztól | from at (a) house |\n",
    "| Elativus  | házból | from inside (a) house |\n",
    "\n",
    "\n",
    "We will train a character-level model that predicts the case based on the word form. This is an easy task since most of the time the grammatical case is obvious from the last 3 characters of the word.\n",
    "\n",
    "Our model looks like this:\n",
    "\n",
    "<img src=\"img/tikz/hungarian_case_lstm.png\" width=600px>"
   ]
  },
  {
   "cell_type": "code",
   "execution_count": 20,
   "metadata": {},
   "outputs": [
    {
     "name": "stdout",
     "output_type": "stream",
     "text": [
      "343484 42752 43157\n"
     ]
    },
    {
     "data": {
      "text/html": [
       "<div>\n",
       "<style scoped>\n",
       "    .dataframe tbody tr th:only-of-type {\n",
       "        vertical-align: middle;\n",
       "    }\n",
       "\n",
       "    .dataframe tbody tr th {\n",
       "        vertical-align: top;\n",
       "    }\n",
       "\n",
       "    .dataframe thead th {\n",
       "        text-align: right;\n",
       "    }\n",
       "</style>\n",
       "<table border=\"1\" class=\"dataframe\">\n",
       "  <thead>\n",
       "    <tr style=\"text-align: right;\">\n",
       "      <th></th>\n",
       "      <th>lemma</th>\n",
       "      <th>infl</th>\n",
       "      <th>tags</th>\n",
       "      <th>pos</th>\n",
       "      <th>case</th>\n",
       "    </tr>\n",
       "  </thead>\n",
       "  <tbody>\n",
       "    <tr>\n",
       "      <th>0</th>\n",
       "      <td>gravitáció</td>\n",
       "      <td>gravitáción</td>\n",
       "      <td>N;ON+ESS;SG</td>\n",
       "      <td>N</td>\n",
       "      <td>ON+ESS</td>\n",
       "    </tr>\n",
       "    <tr>\n",
       "      <th>1</th>\n",
       "      <td>gravitáció</td>\n",
       "      <td>gravitációként</td>\n",
       "      <td>N;FRML;SG</td>\n",
       "      <td>N</td>\n",
       "      <td>FRML</td>\n",
       "    </tr>\n",
       "    <tr>\n",
       "      <th>2</th>\n",
       "      <td>gravitáció</td>\n",
       "      <td>gravitációkban</td>\n",
       "      <td>N;IN+ESS;PL</td>\n",
       "      <td>N</td>\n",
       "      <td>IN+ESS</td>\n",
       "    </tr>\n",
       "    <tr>\n",
       "      <th>3</th>\n",
       "      <td>gravitáció</td>\n",
       "      <td>gravitációkhoz</td>\n",
       "      <td>N;AT+ALL;PL</td>\n",
       "      <td>N</td>\n",
       "      <td>AT+ALL</td>\n",
       "    </tr>\n",
       "    <tr>\n",
       "      <th>4</th>\n",
       "      <td>gravitáció</td>\n",
       "      <td>gravitáció</td>\n",
       "      <td>N;NOM;SG</td>\n",
       "      <td>N</td>\n",
       "      <td>NOM</td>\n",
       "    </tr>\n",
       "  </tbody>\n",
       "</table>\n",
       "</div>"
      ],
      "text/plain": [
       "        lemma            infl         tags pos    case\n",
       "0  gravitáció     gravitáción  N;ON+ESS;SG   N  ON+ESS\n",
       "1  gravitáció  gravitációként    N;FRML;SG   N    FRML\n",
       "2  gravitáció  gravitációkban  N;IN+ESS;PL   N  IN+ESS\n",
       "3  gravitáció  gravitációkhoz  N;AT+ALL;PL   N  AT+ALL\n",
       "4  gravitáció      gravitáció     N;NOM;SG   N     NOM"
      ]
     },
     "execution_count": 20,
     "metadata": {},
     "output_type": "execute_result"
    }
   ],
   "source": [
    "train_df = pd.read_table(\"data/unimorph/hun_train.tsv\")\n",
    "dev_df = pd.read_table(\"data/unimorph/hun_dev.tsv\")\n",
    "test_df = pd.read_table(\"data/unimorph/hun_test.tsv\")\n",
    "print(len(train_df), len(dev_df), len(test_df))\n",
    "train_df.head()"
   ]
  },
  {
   "cell_type": "markdown",
   "metadata": {},
   "source": [
    "### Downsampling\n",
    "\n",
    "We don't need much data to train the model, let's downsample it and train on a small subset."
   ]
  },
  {
   "cell_type": "code",
   "execution_count": 21,
   "metadata": {},
   "outputs": [],
   "source": [
    "train_df = train_df.sample(1000, random_state=1).reset_index(drop=True)\n",
    "dev_df = dev_df.sample(200, random_state=1).reset_index(drop=True)\n",
    "test_df = test_df.sample(200, random_state=1).reset_index(drop=True)"
   ]
  },
  {
   "cell_type": "markdown",
   "metadata": {},
   "source": [
    "### Building the vocabulary\n",
    "\n",
    "We need to map each character to an integer id. For this we need to define a `char->int` mapping that is as big as the alphabet:"
   ]
  },
  {
   "cell_type": "code",
   "execution_count": 22,
   "metadata": {},
   "outputs": [
    {
     "data": {
      "text/plain": [
       "42"
      ]
     },
     "execution_count": 22,
     "metadata": {},
     "output_type": "execute_result"
    }
   ],
   "source": [
    "alphabet = set()\n",
    "for token in train_df.infl:\n",
    "    alphabet |= set(token)\n",
    "len(alphabet)"
   ]
  },
  {
   "cell_type": "markdown",
   "metadata": {},
   "source": [
    "and some extra symbols:\n",
    "\n",
    "1. PAD: used as filler symbols for shorter sequences (see later)\n",
    "2. BOS: beginning-of-sequence. Indicates the start of the sequence.\n",
    "2. EOS: end-of-sequence. Indicates the end of the sequence.\n",
    "2. UNK: unknown. Symbols that fall out of the vocabulary are replaced with this symbol."
   ]
  },
  {
   "cell_type": "code",
   "execution_count": 23,
   "metadata": {},
   "outputs": [],
   "source": [
    "alphabet.add('<PAD>')\n",
    "alphabet.add('<BOS>')\n",
    "alphabet.add('<EOS>')\n",
    "alphabet.add('<UNK>')"
   ]
  },
  {
   "cell_type": "code",
   "execution_count": 24,
   "metadata": {},
   "outputs": [
    {
     "data": {
      "text/plain": [
       "46"
      ]
     },
     "execution_count": 24,
     "metadata": {},
     "output_type": "execute_result"
    }
   ],
   "source": [
    "vocab = {symbol: i for i, symbol in enumerate(alphabet)}\n",
    "len(vocab)"
   ]
  },
  {
   "cell_type": "code",
   "execution_count": 25,
   "metadata": {},
   "outputs": [
    {
     "name": "stdout",
     "output_type": "stream",
     "text": [
      "encode_token('alma') = [9, 31, 21, 22, 31, 26]\n",
      "vocab['<UNK>'] = 0\n",
      "encode_token('ALMA') = [9, 0, 0, 0, 0, 26]\n"
     ]
    }
   ],
   "source": [
    "def encode_token(token):\n",
    "    ids = []\n",
    "    ids.append(vocab['<BOS>'])\n",
    "    # dev and test might contain characters outside the alphabet\n",
    "    ids.extend(vocab.get(c, vocab['<UNK>']) for c in token)\n",
    "    ids.append(vocab['<EOS>'])\n",
    "    return ids\n",
    "\n",
    "print(f\"{encode_token('alma') = }\")\n",
    "print(f\"{vocab['<UNK>'] = }\")\n",
    "print(f\"{encode_token('ALMA') = }\")"
   ]
  },
  {
   "cell_type": "markdown",
   "metadata": {},
   "source": [
    "Let's encode our dataset:"
   ]
  },
  {
   "cell_type": "code",
   "execution_count": 26,
   "metadata": {},
   "outputs": [
    {
     "data": {
      "text/html": [
       "<div>\n",
       "<style scoped>\n",
       "    .dataframe tbody tr th:only-of-type {\n",
       "        vertical-align: middle;\n",
       "    }\n",
       "\n",
       "    .dataframe tbody tr th {\n",
       "        vertical-align: top;\n",
       "    }\n",
       "\n",
       "    .dataframe thead th {\n",
       "        text-align: right;\n",
       "    }\n",
       "</style>\n",
       "<table border=\"1\" class=\"dataframe\">\n",
       "  <thead>\n",
       "    <tr style=\"text-align: right;\">\n",
       "      <th></th>\n",
       "      <th>lemma</th>\n",
       "      <th>infl</th>\n",
       "      <th>tags</th>\n",
       "      <th>pos</th>\n",
       "      <th>case</th>\n",
       "      <th>encoded</th>\n",
       "    </tr>\n",
       "  </thead>\n",
       "  <tbody>\n",
       "    <tr>\n",
       "      <th>0</th>\n",
       "      <td>fülbemászó</td>\n",
       "      <td>fülbemászóként</td>\n",
       "      <td>N;FRML;SG</td>\n",
       "      <td>N</td>\n",
       "      <td>FRML</td>\n",
       "      <td>[9, 35, 36, 21, 17, 40, 22, 19, 2, 23, 1, 32, ...</td>\n",
       "    </tr>\n",
       "    <tr>\n",
       "      <th>1</th>\n",
       "      <td>feszültebb</td>\n",
       "      <td>feszültebbet</td>\n",
       "      <td>N;ACC;SG</td>\n",
       "      <td>N</td>\n",
       "      <td>ACC</td>\n",
       "      <td>[9, 35, 40, 2, 23, 36, 21, 13, 40, 17, 17, 40,...</td>\n",
       "    </tr>\n",
       "    <tr>\n",
       "      <th>2</th>\n",
       "      <td>olajfa</td>\n",
       "      <td>olajfára</td>\n",
       "      <td>N;ON+ALL;SG</td>\n",
       "      <td>N</td>\n",
       "      <td>ON+ALL</td>\n",
       "      <td>[9, 5, 21, 31, 15, 35, 19, 3, 31, 26]</td>\n",
       "    </tr>\n",
       "    <tr>\n",
       "      <th>3</th>\n",
       "      <td>prostitúció</td>\n",
       "      <td>prostitúciókat</td>\n",
       "      <td>N;ACC;PL</td>\n",
       "      <td>N</td>\n",
       "      <td>ACC</td>\n",
       "      <td>[9, 43, 3, 5, 2, 13, 24, 13, 41, 16, 24, 1, 32...</td>\n",
       "    </tr>\n",
       "    <tr>\n",
       "      <th>4</th>\n",
       "      <td>alt</td>\n",
       "      <td>alttá</td>\n",
       "      <td>N;TRANS;SG</td>\n",
       "      <td>N</td>\n",
       "      <td>TRANS</td>\n",
       "      <td>[9, 31, 21, 13, 13, 19, 26]</td>\n",
       "    </tr>\n",
       "  </tbody>\n",
       "</table>\n",
       "</div>"
      ],
      "text/plain": [
       "         lemma            infl         tags pos    case  \\\n",
       "0   fülbemászó  fülbemászóként    N;FRML;SG   N    FRML   \n",
       "1   feszültebb    feszültebbet     N;ACC;SG   N     ACC   \n",
       "2       olajfa        olajfára  N;ON+ALL;SG   N  ON+ALL   \n",
       "3  prostitúció  prostitúciókat     N;ACC;PL   N     ACC   \n",
       "4          alt           alttá   N;TRANS;SG   N   TRANS   \n",
       "\n",
       "                                             encoded  \n",
       "0  [9, 35, 36, 21, 17, 40, 22, 19, 2, 23, 1, 32, ...  \n",
       "1  [9, 35, 40, 2, 23, 36, 21, 13, 40, 17, 17, 40,...  \n",
       "2              [9, 5, 21, 31, 15, 35, 19, 3, 31, 26]  \n",
       "3  [9, 43, 3, 5, 2, 13, 24, 13, 41, 16, 24, 1, 32...  \n",
       "4                        [9, 31, 21, 13, 13, 19, 26]  "
      ]
     },
     "execution_count": 26,
     "metadata": {},
     "output_type": "execute_result"
    }
   ],
   "source": [
    "train_df['encoded'] = train_df.infl.apply(encode_token)\n",
    "dev_df['encoded'] = dev_df.infl.apply(encode_token)\n",
    "test_df['encoded'] = test_df.infl.apply(encode_token)\n",
    "train_df.head()"
   ]
  },
  {
   "cell_type": "markdown",
   "metadata": {},
   "source": [
    "### Padding\n",
    "\n",
    "The input sequences different in length at the moment:"
   ]
  },
  {
   "cell_type": "code",
   "execution_count": 27,
   "metadata": {},
   "outputs": [
    {
     "data": {
      "text/plain": [
       "<AxesSubplot:xlabel='infl', ylabel='count'>"
      ]
     },
     "execution_count": 27,
     "metadata": {},
     "output_type": "execute_result"
    },
    {
     "data": {
      "image/png": "[encoded data removed]",
      "text/plain": [
       "<Figure size 432x288 with 1 Axes>"
      ]
     },
     "metadata": {
      "needs_background": "light"
     },
     "output_type": "display_data"
    }
   ],
   "source": [
    "sns.countplot(x=train_df.infl.str.len(), palette='tab10')"
   ]
  },
  {
   "cell_type": "markdown",
   "metadata": {},
   "source": [
    "We append **PAD** symbols to the shorter sequences like this:\n",
    "\n",
    "<img src=\"img/tikz/padding.png\">"
   ]
  },
  {
   "cell_type": "code",
   "execution_count": 28,
   "metadata": {},
   "outputs": [
    {
     "name": "stdout",
     "output_type": "stream",
     "text": [
      "29\n",
      "[1, 2, 3, 12, 12, 12, 12, 12, 12, 12, 12, 12, 12, 12, 12, 12, 12, 12, 12, 12, 12, 12, 12, 12, 12, 12, 12, 12, 12]\n"
     ]
    }
   ],
   "source": [
    "maxlen = train_df.encoded.apply(len).max()\n",
    "print(maxlen)\n",
    "\n",
    "def pad_sequence(sequence):\n",
    "    return sequence + [vocab['<PAD>'] for _ in range(maxlen-len(sequence))]\n",
    "\n",
    "print(pad_sequence([1, 2, 3]))"
   ]
  },
  {
   "cell_type": "code",
   "execution_count": 29,
   "metadata": {},
   "outputs": [
    {
     "data": {
      "text/plain": [
       "29    1000\n",
       "Name: padded, dtype: int64"
      ]
     },
     "execution_count": 29,
     "metadata": {},
     "output_type": "execute_result"
    }
   ],
   "source": [
    "train_df['padded'] = train_df.encoded.apply(pad_sequence)\n",
    "dev_df['padded'] = dev_df.encoded.apply(pad_sequence)\n",
    "test_df['padded'] = test_df.encoded.apply(pad_sequence)\n",
    "\n",
    "train_df['padded'].apply(len).value_counts()"
   ]
  },
  {
   "cell_type": "markdown",
   "metadata": {},
   "source": [
    "We will need the original lengths of each sequence later:"
   ]
  },
  {
   "cell_type": "code",
   "execution_count": 30,
   "metadata": {},
   "outputs": [],
   "source": [
    "train_df['seqlen'] = train_df.encoded.apply(len)\n",
    "dev_df['seqlen'] = dev_df.encoded.apply(len)\n",
    "test_df['seqlen'] = test_df.encoded.apply(len)"
   ]
  },
  {
   "cell_type": "markdown",
   "metadata": {},
   "source": [
    "### Preparing labels\n",
    "\n",
    "There are 18 labels:"
   ]
  },
  {
   "cell_type": "code",
   "execution_count": 31,
   "metadata": {},
   "outputs": [
    {
     "data": {
      "text/plain": [
       "{'FRML': 0,\n",
       " 'ACC': 1,\n",
       " 'ON+ALL': 2,\n",
       " 'TRANS': 3,\n",
       " 'IN+ALL': 4,\n",
       " 'AT+ALL': 5,\n",
       " 'IN+ESS': 6,\n",
       " 'ON+ABL': 7,\n",
       " 'IN+ABL': 8,\n",
       " 'INST': 9,\n",
       " 'TERM': 10,\n",
       " 'AT+ESS': 11,\n",
       " 'PRP': 12,\n",
       " 'AT+ABL': 13,\n",
       " 'NOM': 14,\n",
       " 'ON+ESS': 15,\n",
       " 'DAT': 16}"
      ]
     },
     "execution_count": 31,
     "metadata": {},
     "output_type": "execute_result"
    }
   ],
   "source": [
    "label_to_id = {label: i for i, label in enumerate(train_df.case.unique())}\n",
    "label_to_id"
   ]
  },
  {
   "cell_type": "markdown",
   "metadata": {},
   "source": [
    "We add a `label` column to each dataframe:"
   ]
  },
  {
   "cell_type": "code",
   "execution_count": 32,
   "metadata": {},
   "outputs": [],
   "source": [
    "train_df['label'] = train_df.case.apply(lambda c: label_to_id[c])\n",
    "dev_df['label'] = dev_df.case.apply(lambda c: label_to_id[c])\n",
    "test_df['label'] = test_df.case.apply(lambda c: label_to_id[c])"
   ]
  },
  {
   "cell_type": "code",
   "execution_count": 33,
   "metadata": {},
   "outputs": [
    {
     "data": {
      "text/html": [
       "<div>\n",
       "<style scoped>\n",
       "    .dataframe tbody tr th:only-of-type {\n",
       "        vertical-align: middle;\n",
       "    }\n",
       "\n",
       "    .dataframe tbody tr th {\n",
       "        vertical-align: top;\n",
       "    }\n",
       "\n",
       "    .dataframe thead th {\n",
       "        text-align: right;\n",
       "    }\n",
       "</style>\n",
       "<table border=\"1\" class=\"dataframe\">\n",
       "  <thead>\n",
       "    <tr style=\"text-align: right;\">\n",
       "      <th></th>\n",
       "      <th>lemma</th>\n",
       "      <th>infl</th>\n",
       "      <th>tags</th>\n",
       "      <th>pos</th>\n",
       "      <th>case</th>\n",
       "      <th>encoded</th>\n",
       "      <th>padded</th>\n",
       "      <th>seqlen</th>\n",
       "      <th>label</th>\n",
       "    </tr>\n",
       "  </thead>\n",
       "  <tbody>\n",
       "    <tr>\n",
       "      <th>0</th>\n",
       "      <td>fülbemászó</td>\n",
       "      <td>fülbemászóként</td>\n",
       "      <td>N;FRML;SG</td>\n",
       "      <td>N</td>\n",
       "      <td>FRML</td>\n",
       "      <td>[9, 35, 36, 21, 17, 40, 22, 19, 2, 23, 1, 32, ...</td>\n",
       "      <td>[9, 35, 36, 21, 17, 40, 22, 19, 2, 23, 1, 32, ...</td>\n",
       "      <td>16</td>\n",
       "      <td>0</td>\n",
       "    </tr>\n",
       "    <tr>\n",
       "      <th>1</th>\n",
       "      <td>feszültebb</td>\n",
       "      <td>feszültebbet</td>\n",
       "      <td>N;ACC;SG</td>\n",
       "      <td>N</td>\n",
       "      <td>ACC</td>\n",
       "      <td>[9, 35, 40, 2, 23, 36, 21, 13, 40, 17, 17, 40,...</td>\n",
       "      <td>[9, 35, 40, 2, 23, 36, 21, 13, 40, 17, 17, 40,...</td>\n",
       "      <td>14</td>\n",
       "      <td>1</td>\n",
       "    </tr>\n",
       "    <tr>\n",
       "      <th>2</th>\n",
       "      <td>olajfa</td>\n",
       "      <td>olajfára</td>\n",
       "      <td>N;ON+ALL;SG</td>\n",
       "      <td>N</td>\n",
       "      <td>ON+ALL</td>\n",
       "      <td>[9, 5, 21, 31, 15, 35, 19, 3, 31, 26]</td>\n",
       "      <td>[9, 5, 21, 31, 15, 35, 19, 3, 31, 26, 12, 12, ...</td>\n",
       "      <td>10</td>\n",
       "      <td>2</td>\n",
       "    </tr>\n",
       "    <tr>\n",
       "      <th>3</th>\n",
       "      <td>prostitúció</td>\n",
       "      <td>prostitúciókat</td>\n",
       "      <td>N;ACC;PL</td>\n",
       "      <td>N</td>\n",
       "      <td>ACC</td>\n",
       "      <td>[9, 43, 3, 5, 2, 13, 24, 13, 41, 16, 24, 1, 32...</td>\n",
       "      <td>[9, 43, 3, 5, 2, 13, 24, 13, 41, 16, 24, 1, 32...</td>\n",
       "      <td>16</td>\n",
       "      <td>1</td>\n",
       "    </tr>\n",
       "    <tr>\n",
       "      <th>4</th>\n",
       "      <td>alt</td>\n",
       "      <td>alttá</td>\n",
       "      <td>N;TRANS;SG</td>\n",
       "      <td>N</td>\n",
       "      <td>TRANS</td>\n",
       "      <td>[9, 31, 21, 13, 13, 19, 26]</td>\n",
       "      <td>[9, 31, 21, 13, 13, 19, 26, 12, 12, 12, 12, 12...</td>\n",
       "      <td>7</td>\n",
       "      <td>3</td>\n",
       "    </tr>\n",
       "  </tbody>\n",
       "</table>\n",
       "</div>"
      ],
      "text/plain": [
       "         lemma            infl         tags pos    case  \\\n",
       "0   fülbemászó  fülbemászóként    N;FRML;SG   N    FRML   \n",
       "1   feszültebb    feszültebbet     N;ACC;SG   N     ACC   \n",
       "2       olajfa        olajfára  N;ON+ALL;SG   N  ON+ALL   \n",
       "3  prostitúció  prostitúciókat     N;ACC;PL   N     ACC   \n",
       "4          alt           alttá   N;TRANS;SG   N   TRANS   \n",
       "\n",
       "                                             encoded  \\\n",
       "0  [9, 35, 36, 21, 17, 40, 22, 19, 2, 23, 1, 32, ...   \n",
       "1  [9, 35, 40, 2, 23, 36, 21, 13, 40, 17, 17, 40,...   \n",
       "2              [9, 5, 21, 31, 15, 35, 19, 3, 31, 26]   \n",
       "3  [9, 43, 3, 5, 2, 13, 24, 13, 41, 16, 24, 1, 32...   \n",
       "4                        [9, 31, 21, 13, 13, 19, 26]   \n",
       "\n",
       "                                              padded  seqlen  label  \n",
       "0  [9, 35, 36, 21, 17, 40, 22, 19, 2, 23, 1, 32, ...      16      0  \n",
       "1  [9, 35, 40, 2, 23, 36, 21, 13, 40, 17, 17, 40,...      14      1  \n",
       "2  [9, 5, 21, 31, 15, 35, 19, 3, 31, 26, 12, 12, ...      10      2  \n",
       "3  [9, 43, 3, 5, 2, 13, 24, 13, 41, 16, 24, 1, 32...      16      1  \n",
       "4  [9, 31, 21, 13, 13, 19, 26, 12, 12, 12, 12, 12...       7      3  "
      ]
     },
     "execution_count": 33,
     "metadata": {},
     "output_type": "execute_result"
    }
   ],
   "source": [
    "train_df.head()"
   ]
  },
  {
   "cell_type": "markdown",
   "metadata": {},
   "source": [
    "#### Extract input and output tensors"
   ]
  },
  {
   "cell_type": "code",
   "execution_count": 34,
   "metadata": {},
   "outputs": [
    {
     "name": "stdout",
     "output_type": "stream",
     "text": [
      "X_train.size() = torch.Size([1000, 29]),\n",
      "y_train.size() = torch.Size([1000])\n",
      "seqlen_train.size() = torch.Size([1000])\n",
      "\n",
      "X_dev.size() = torch.Size([200, 29]),\n",
      "y_dev.size() = torch.Size([200])\n",
      "seqlen_dev.size() = torch.Size([200])\n",
      "\n",
      "X_test.size() = torch.Size([200, 29]),\n",
      "y_test.size() = torch.Size([200])\n",
      "seqlen_test.size() = torch.Size([200])\n"
     ]
    }
   ],
   "source": [
    "X_train = torch.from_numpy(np.array(list(train_df.padded)))\n",
    "y_train = torch.LongTensor(train_df.label.values)\n",
    "seqlen_train = torch.LongTensor(train_df.seqlen.values)\n",
    "print(f\"{X_train.size() = },\\n{y_train.size() = }\\n{seqlen_train.size() = }\\n\")\n",
    "\n",
    "X_dev = torch.from_numpy(np.array(list(dev_df.padded)))\n",
    "y_dev = torch.LongTensor(dev_df.label.values)\n",
    "seqlen_dev = torch.LongTensor(dev_df.seqlen.values)\n",
    "print(f\"{X_dev.size() = },\\n{y_dev.size() = }\\n{seqlen_dev.size() = }\\n\")\n",
    "\n",
    "X_test = torch.from_numpy(np.array(list(test_df.padded)))\n",
    "y_test = torch.LongTensor(test_df.label.values)\n",
    "seqlen_test = torch.LongTensor(test_df.seqlen.values)\n",
    "print(f\"{X_test.size() = },\\n{y_test.size() = }\\n{seqlen_test.size() = }\")"
   ]
  },
  {
   "cell_type": "markdown",
   "metadata": {},
   "source": [
    "## `PackedSequence`\n",
    "\n",
    "We need to modify `LSTMTagger` to support padding. The last output is now different for each sequence:\n",
    "\n",
    "<img src=\"img/tikz/padding_last_highlight.png\">"
   ]
  },
  {
   "cell_type": "code",
   "execution_count": 35,
   "metadata": {},
   "outputs": [],
   "source": [
    "class LSTMTagger(nn.Module):\n",
    "    def __init__(self, input_size, embedding_size, hidden_size, output_size):\n",
    "        super().__init__()\n",
    "        self.embedding = nn.Embedding(input_size, embedding_size)\n",
    "        self.lstm = nn.LSTM(\n",
    "            input_size=embedding_size,\n",
    "            hidden_size=hidden_size,\n",
    "            num_layers=1,\n",
    "            bidirectional=True,\n",
    "            batch_first=True,\n",
    "        )\n",
    "        self.dense = nn.Linear(hidden_size * 2, output_size)\n",
    "        \n",
    "    # the input signature of forward changes\n",
    "    def forward(self, sequences, sequence_lens):\n",
    "        embedded = self.embedding(sequences)\n",
    "        \n",
    "        # THIS IS THE MODIFIED PART\n",
    "        # returns a PackedSequence object\n",
    "        packed = nn.utils.rnn.pack_padded_sequence(\n",
    "            embedded,\n",
    "            sequence_lens,\n",
    "            enforce_sorted=False,\n",
    "            batch_first=True)\n",
    "        packed_outputs, (h, c) = self.lstm(packed)\n",
    "        # extract LSTM outputs (not used here)\n",
    "        lstm_outputs, lens = nn.utils.rnn.pad_packed_sequence(packed_outputs)\n",
    "        \n",
    "        h = torch.cat((h[0], h[1]), dim=-1)\n",
    "        output = self.dense(h)\n",
    "        return output"
   ]
  },
  {
   "cell_type": "markdown",
   "metadata": {},
   "source": [
    "## Instantiating the model\n",
    "\n",
    "The input and the output size are determined by the alphabet and the number of labels, the rest are up to us:"
   ]
  },
  {
   "cell_type": "code",
   "execution_count": 36,
   "metadata": {},
   "outputs": [
    {
     "data": {
      "text/plain": [
       "LSTMTagger(\n",
       "  (embedding): Embedding(46, 30)\n",
       "  (lstm): LSTM(30, 64, batch_first=True, bidirectional=True)\n",
       "  (dense): Linear(in_features=128, out_features=17, bias=True)\n",
       ")"
      ]
     },
     "execution_count": 36,
     "metadata": {},
     "output_type": "execute_result"
    }
   ],
   "source": [
    "input_size = len(vocab)\n",
    "embedding_size = 30\n",
    "hidden_size = 64\n",
    "output_size = train_df.label.nunique()\n",
    "\n",
    "tagger = LSTMTagger(input_size, embedding_size, hidden_size, output_size)\n",
    "tagger"
   ]
  },
  {
   "cell_type": "markdown",
   "metadata": {},
   "source": [
    "## Batching\n",
    "\n",
    "Most datasets do not fit into the GPU memory so we process them in smaller chunks called _batches_.\n",
    "\n",
    "There are many solutions for batching but it can also be implemented with simple class.\n",
    "\n",
    "Note that the init function takes an arbitrary number of positional arguments (`*tensors`) and one mandatory keyword (`batch_size`). This class is a simplified version of batching, it lacks many features such as shuffling or sorting by sequence length."
   ]
  },
  {
   "cell_type": "code",
   "execution_count": 37,
   "metadata": {},
   "outputs": [
    {
     "name": "stdout",
     "output_type": "stream",
     "text": [
      "Two tensors:\n",
      "([1, 2], [2, 1])\n",
      "([3], [2])\n",
      "\n",
      "One tensor:\n",
      "([2, 1],)\n",
      "([2],)\n"
     ]
    }
   ],
   "source": [
    "class BatchedIterator:\n",
    "    def __init__(self, *tensors, batch_size):\n",
    "        # all tensors must have the same first dimension\n",
    "        assert len(set(len(tensor) for tensor in tensors)) == 1\n",
    "        self.tensors = tensors\n",
    "        self.batch_size = batch_size\n",
    "    \n",
    "    def iterate_once(self):\n",
    "        num_data = len(self.tensors[0])\n",
    "        for start in range(0, num_data, self.batch_size):\n",
    "            end = start + self.batch_size\n",
    "            yield tuple(tensor[start:end] for tensor in self.tensors)\n",
    "            \n",
    "            \n",
    "print(\"Two tensors:\")\n",
    "for batch in BatchedIterator([1, 2, 3], [2, 1, 2], batch_size=2).iterate_once():\n",
    "    print(batch)\n",
    "    \n",
    "print(\"\\nOne tensor:\")\n",
    "for batch in BatchedIterator([2, 1, 2], batch_size=2).iterate_once():\n",
    "    print(batch)"
   ]
  },
  {
   "cell_type": "code",
   "execution_count": 38,
   "metadata": {},
   "outputs": [
    {
     "name": "stdout",
     "output_type": "stream",
     "text": [
      "X.size() = torch.Size([501, 29]), seqlens.size() = torch.Size([501]), y.size() = torch.Size([501])\n",
      "X.size() = torch.Size([499, 29]), seqlens.size() = torch.Size([499]), y.size() = torch.Size([499])\n"
     ]
    }
   ],
   "source": [
    "train_iter = BatchedIterator(X_train, seqlen_train, y_train, batch_size=501)\n",
    "for X, seqlens, y in train_iter.iterate_once():\n",
    "    print(f\"{X.size() = }, {seqlens.size() = }, {y.size() = }\")"
   ]
  },
  {
   "cell_type": "markdown",
   "metadata": {},
   "source": [
    "## Loss function and optimizer\n",
    "\n",
    "The **loss function** or **cost function** quantifies cost of the model output differing from the expected target values.\n",
    "\n",
    "The optimizer adjusts the model's parameters in accordance with the loss."
   ]
  },
  {
   "cell_type": "code",
   "execution_count": 39,
   "metadata": {},
   "outputs": [],
   "source": [
    "criterion = nn.CrossEntropyLoss()\n",
    "optimizer = optim.Adam(tagger.parameters())"
   ]
  },
  {
   "cell_type": "markdown",
   "metadata": {},
   "source": [
    "## Sanity check\n",
    "\n",
    "Train and dev accuracy should be really bad without training.\n",
    "\n",
    "Do **NOT** touch the test data while development finetuning."
   ]
  },
  {
   "cell_type": "code",
   "execution_count": 40,
   "metadata": {},
   "outputs": [
    {
     "name": "stdout",
     "output_type": "stream",
     "text": [
      "Train accuracy: 4.9%\n"
     ]
    }
   ],
   "source": [
    "logits = tagger(X_train, seqlen_train)\n",
    "y = logits.argmax(axis=1)\n",
    "accuracy = torch.sum(torch.eq(y, y_train)) / y.size(0)\n",
    "print(f\"Train accuracy: {accuracy:.1%}\")"
   ]
  },
  {
   "cell_type": "code",
   "execution_count": 41,
   "metadata": {},
   "outputs": [
    {
     "name": "stdout",
     "output_type": "stream",
     "text": [
      "Dev accuracy: 4.5%\n"
     ]
    }
   ],
   "source": [
    "logits = tagger(X_dev, seqlen_dev)\n",
    "y = logits.argmax(axis=1)\n",
    "accuracy = torch.sum(torch.eq(y, y_dev)) / y.size(0)\n",
    "print(f\"Dev accuracy: {accuracy:.1%}\")"
   ]
  },
  {
   "cell_type": "markdown",
   "metadata": {},
   "source": [
    "## Training\n",
    "\n",
    "We collect training statistics at the end of each epochs in `metrics`."
   ]
  },
  {
   "cell_type": "code",
   "execution_count": 42,
   "metadata": {},
   "outputs": [],
   "source": [
    "num_epochs = 30\n",
    "batch_size = 128\n",
    "\n",
    "metrics = defaultdict(list)\n",
    "train_iter = BatchedIterator(X_train, seqlen_train, y_train, batch_size=batch_size)"
   ]
  },
  {
   "cell_type": "markdown",
   "metadata": {},
   "source": [
    "We train the model batch by batch and then evaluate it on the train and the dev data at the end of each epoch.\n",
    "Since the dataset is small, we can evaluate it the whole data in one step without batching.\n",
    "\n",
    "Note that the model should be set to **train** or **eval** mode accordingly. Stochastic steps such as dropout are disabled in **eval** mode."
   ]
  },
  {
   "cell_type": "code",
   "execution_count": 43,
   "metadata": {},
   "outputs": [
    {
     "name": "stdout",
     "output_type": "stream",
     "text": [
      "epoch=0 -- train_loss=2.783 - train_accuracy=18.7% - dev_loss=2.785 - dev_accuracy=17.5%\n",
      "epoch=1 -- train_loss=2.717 - train_accuracy=29.4% - dev_loss=2.727 - dev_accuracy=27.5%\n",
      "epoch=2 -- train_loss=2.608 - train_accuracy=33.7% - dev_loss=2.630 - dev_accuracy=31.5%\n",
      "epoch=3 -- train_loss=2.430 - train_accuracy=38.3% - dev_loss=2.467 - dev_accuracy=36.5%\n",
      "epoch=4 -- train_loss=2.174 - train_accuracy=46.4% - dev_loss=2.232 - dev_accuracy=41.0%\n",
      "epoch=5 -- train_loss=1.861 - train_accuracy=58.5% - dev_loss=1.941 - dev_accuracy=53.5%\n",
      "epoch=6 -- train_loss=1.534 - train_accuracy=71.2% - dev_loss=1.628 - dev_accuracy=66.5%\n",
      "epoch=7 -- train_loss=1.237 - train_accuracy=79.5% - dev_loss=1.346 - dev_accuracy=75.5%\n",
      "epoch=8 -- train_loss=0.982 - train_accuracy=85.8% - dev_loss=1.105 - dev_accuracy=82.0%\n",
      "epoch=9 -- train_loss=0.767 - train_accuracy=88.9% - dev_loss=0.897 - dev_accuracy=84.5%\n",
      "epoch=10 -- train_loss=0.582 - train_accuracy=92.1% - dev_loss=0.719 - dev_accuracy=86.5%\n",
      "epoch=11 -- train_loss=0.427 - train_accuracy=94.8% - dev_loss=0.562 - dev_accuracy=90.0%\n",
      "epoch=12 -- train_loss=0.323 - train_accuracy=96.2% - dev_loss=0.438 - dev_accuracy=91.5%\n",
      "epoch=13 -- train_loss=0.242 - train_accuracy=97.5% - dev_loss=0.341 - dev_accuracy=94.5%\n",
      "epoch=14 -- train_loss=0.187 - train_accuracy=97.6% - dev_loss=0.281 - dev_accuracy=94.0%\n",
      "epoch=15 -- train_loss=0.159 - train_accuracy=98.1% - dev_loss=0.262 - dev_accuracy=94.5%\n",
      "epoch=16 -- train_loss=0.128 - train_accuracy=98.5% - dev_loss=0.220 - dev_accuracy=96.0%\n",
      "epoch=17 -- train_loss=0.107 - train_accuracy=98.9% - dev_loss=0.204 - dev_accuracy=95.5%\n",
      "epoch=18 -- train_loss=0.092 - train_accuracy=99.0% - dev_loss=0.183 - dev_accuracy=96.0%\n",
      "epoch=19 -- train_loss=0.080 - train_accuracy=99.3% - dev_loss=0.177 - dev_accuracy=95.5%\n",
      "epoch=20 -- train_loss=0.071 - train_accuracy=99.3% - dev_loss=0.170 - dev_accuracy=96.0%\n",
      "epoch=21 -- train_loss=0.062 - train_accuracy=99.5% - dev_loss=0.170 - dev_accuracy=96.0%\n",
      "epoch=22 -- train_loss=0.056 - train_accuracy=99.6% - dev_loss=0.157 - dev_accuracy=96.0%\n",
      "epoch=23 -- train_loss=0.050 - train_accuracy=99.8% - dev_loss=0.158 - dev_accuracy=96.0%\n",
      "epoch=24 -- train_loss=0.045 - train_accuracy=99.8% - dev_loss=0.146 - dev_accuracy=96.5%\n",
      "epoch=25 -- train_loss=0.041 - train_accuracy=99.8% - dev_loss=0.150 - dev_accuracy=96.5%\n",
      "epoch=26 -- train_loss=0.037 - train_accuracy=99.8% - dev_loss=0.141 - dev_accuracy=96.5%\n",
      "epoch=27 -- train_loss=0.034 - train_accuracy=99.8% - dev_loss=0.140 - dev_accuracy=96.5%\n",
      "epoch=28 -- train_loss=0.031 - train_accuracy=99.8% - dev_loss=0.135 - dev_accuracy=97.0%\n",
      "epoch=29 -- train_loss=0.029 - train_accuracy=99.8% - dev_loss=0.134 - dev_accuracy=97.0%\n"
     ]
    }
   ],
   "source": [
    "for epoch in range(num_epochs):\n",
    "    tagger.train()\n",
    "    # Training loop\n",
    "    for X_batch, seqlen_batch, y_batch in train_iter.iterate_once():\n",
    "        y_out = tagger(X_batch, seqlen_batch)\n",
    "        loss = criterion(y_out, y_batch)\n",
    "        optimizer.zero_grad()\n",
    "        loss.backward()\n",
    "        optimizer.step()\n",
    "        \n",
    "    tagger.eval()  # or tagger.train(False)\n",
    "    # Train and dev loss at the end of the epoch\n",
    "    y_out = tagger(X_train, seqlen_train)\n",
    "    train_loss = criterion(y_out, y_train).item()\n",
    "    metrics['train_loss'].append(train_loss)\n",
    "    labels = y_out.argmax(axis=1)\n",
    "    train_accuracy = (torch.eq(y_train, labels).sum() / labels.size(0)).item()\n",
    "    metrics['train_accuracy'].append(train_accuracy)\n",
    "    \n",
    "    y_out = tagger(X_dev, seqlen_dev)\n",
    "    dev_loss = criterion(y_out, y_dev).item()\n",
    "    metrics['dev_loss'].append(dev_loss)\n",
    "    labels = y_out.argmax(axis=1)\n",
    "    dev_accuracy = (torch.eq(y_dev, labels).sum() / labels.size(0)).item()\n",
    "    metrics['dev_accuracy'].append(dev_accuracy)\n",
    "    \n",
    "    print(f\"{epoch=} -- {train_loss=:.3f} - {train_accuracy=:.1%} - {dev_loss=:.3f} - {dev_accuracy=:.1%}\")"
   ]
  },
  {
   "cell_type": "markdown",
   "metadata": {},
   "source": [
    "## Evaluation\n",
    "\n",
    "### Training curves"
   ]
  },
  {
   "cell_type": "code",
   "execution_count": 44,
   "metadata": {},
   "outputs": [
    {
     "data": {
      "text/plain": [
       "<AxesSubplot:>"
      ]
     },
     "execution_count": 44,
     "metadata": {},
     "output_type": "execute_result"
    },
    {
     "data": {
      "image/png": "[encoded data removed]",
      "text/plain": [
       "<Figure size 1152x288 with 2 Axes>"
      ]
     },
     "metadata": {
      "needs_background": "light"
     },
     "output_type": "display_data"
    }
   ],
   "source": [
    "fig, ax = plt.subplots(1, 2, figsize=(16, 4))\n",
    "\n",
    "sns.lineplot(data=metrics['train_loss'], ax=ax[0], label='train loss')\n",
    "sns.lineplot(data=metrics['dev_loss'], ax=ax[0], label='dev loss')\n",
    "\n",
    "sns.lineplot(data=metrics['train_accuracy'], ax=ax[1], label='train acc')\n",
    "sns.lineplot(data=metrics['dev_accuracy'], ax=ax[1], label='dev acc')"
   ]
  },
  {
   "cell_type": "markdown",
   "metadata": {},
   "source": [
    "## Test accuracy"
   ]
  },
  {
   "cell_type": "code",
   "execution_count": 45,
   "metadata": {},
   "outputs": [
    {
     "name": "stdout",
     "output_type": "stream",
     "text": [
      "Test accuracy: 99.0%\n"
     ]
    }
   ],
   "source": [
    "logits = tagger(X_test, seqlen_test)\n",
    "test_prediction = logits.argmax(axis=1)\n",
    "test_accuracy = torch.sum(torch.eq(test_prediction, y_test)) / y.size(0)\n",
    "print(f\"Test accuracy: {test_accuracy:.1%}\")"
   ]
  },
  {
   "cell_type": "markdown",
   "metadata": {},
   "source": [
    "## Incorrectly classified examples"
   ]
  },
  {
   "cell_type": "code",
   "execution_count": 46,
   "metadata": {},
   "outputs": [],
   "source": [
    "test_df['prediction'] = test_prediction"
   ]
  },
  {
   "cell_type": "markdown",
   "metadata": {},
   "source": [
    "### Recovering labels"
   ]
  },
  {
   "cell_type": "code",
   "execution_count": 47,
   "metadata": {},
   "outputs": [],
   "source": [
    "id_to_label = {i: l for l, i in label_to_id.items()}\n",
    "test_df['predicted_case'] = test_df['prediction'].apply(lambda id_: id_to_label[id_])"
   ]
  },
  {
   "cell_type": "code",
   "execution_count": 48,
   "metadata": {},
   "outputs": [
    {
     "data": {
      "text/html": [
       "<div>\n",
       "<style scoped>\n",
       "    .dataframe tbody tr th:only-of-type {\n",
       "        vertical-align: middle;\n",
       "    }\n",
       "\n",
       "    .dataframe tbody tr th {\n",
       "        vertical-align: top;\n",
       "    }\n",
       "\n",
       "    .dataframe thead th {\n",
       "        text-align: right;\n",
       "    }\n",
       "</style>\n",
       "<table border=\"1\" class=\"dataframe\">\n",
       "  <thead>\n",
       "    <tr style=\"text-align: right;\">\n",
       "      <th></th>\n",
       "      <th>infl</th>\n",
       "      <th>case</th>\n",
       "      <th>predicted_case</th>\n",
       "    </tr>\n",
       "  </thead>\n",
       "  <tbody>\n",
       "    <tr>\n",
       "      <th>177</th>\n",
       "      <td>sámán</td>\n",
       "      <td>NOM</td>\n",
       "      <td>ON+ESS</td>\n",
       "    </tr>\n",
       "    <tr>\n",
       "      <th>180</th>\n",
       "      <td>gyűjtőre</td>\n",
       "      <td>ON+ALL</td>\n",
       "      <td>NOM</td>\n",
       "    </tr>\n",
       "  </tbody>\n",
       "</table>\n",
       "</div>"
      ],
      "text/plain": [
       "         infl    case predicted_case\n",
       "177     sámán     NOM         ON+ESS\n",
       "180  gyűjtőre  ON+ALL            NOM"
      ]
     },
     "execution_count": 48,
     "metadata": {},
     "output_type": "execute_result"
    }
   ],
   "source": [
    "test_df[test_df.prediction != test_df.label][['infl', 'case', 'predicted_case']]"
   ]
  },
  {
   "cell_type": "markdown",
   "metadata": {},
   "source": [
    "# Further topics\n",
    "\n",
    "## Early stopping\n",
    "\n",
    "Stop the training process if the development metrics no longer improve."
   ]
  },
  {
   "cell_type": "markdown",
   "metadata": {},
   "source": [
    "## Dropout\n",
    "\n",
    "Dropout disables a random subset of neurons during each training step. It's generally set to 10-20%. Dropout usually improves generalization.\n",
    "\n",
    "It should be disabled in evaluation steps and during inference."
   ]
  },
  {
   "cell_type": "markdown",
   "metadata": {},
   "source": [
    "## Overfitting\n",
    "\n",
    "Fit the train set very closely but lose generalization.\n",
    "\n",
    "[Image source](https://www.quora.com/What-are-the-key-trade-offs-between-overfitting-and-underfitting)\n",
    "\n",
    "<img src=\"img/dl/overfitting.png\" />"
   ]
  },
  {
   "cell_type": "markdown",
   "metadata": {},
   "source": [
    "## Using the GPU\n",
    "\n",
    "Moving things manually to the GPU:\n",
    "- model: move once\n",
    "- criterion: move once\n",
    "- data: move one batch at a time\n",
    "\n",
    "This should be automatically handled by your code the following way:"
   ]
  },
  {
   "cell_type": "code",
   "execution_count": 49,
   "metadata": {},
   "outputs": [
    {
     "name": "stdout",
     "output_type": "stream",
     "text": [
      "False\n"
     ]
    }
   ],
   "source": [
    "use_cuda = torch.cuda.is_available()\n",
    "print(use_cuda)"
   ]
  },
  {
   "cell_type": "code",
   "execution_count": 50,
   "metadata": {},
   "outputs": [],
   "source": [
    "if use_cuda:\n",
    "    tagger = tagger.cuda()\n",
    "    criterion = criterion.cuda()"
   ]
  },
  {
   "cell_type": "markdown",
   "metadata": {},
   "source": [
    "## Saving and loading models\n",
    "\n",
    "All `nn.Modules` have a `state_dict` attribute, a dictionary of their parameters. This can be partially or fully saved with `torch.save` and loaded by `torch.load`.\n",
    "\n",
    "(Official tutorial)[https://pytorch.org/tutorials/beginner/saving_loading_models.html]"
   ]
  },
  {
   "cell_type": "markdown",
   "metadata": {},
   "source": [
    "## Inference\n",
    "\n",
    "**Inference** is when we use the model for prediction and do not train it.\n",
    "\n",
    "The models should be set to `eval` mode."
   ]
  },
  {
   "cell_type": "code",
   "execution_count": null,
   "metadata": {},
   "outputs": [],
   "source": []
  }
 ],
 "metadata": {
  "kernelspec": {
   "display_name": "Python 3",
   "language": "python",
   "name": "python3"
  },
  "language_info": {
   "codemirror_mode": {
    "name": "ipython",
    "version": 3
   },
   "file_extension": ".py",
   "mimetype": "text/x-python",
   "name": "python",
   "nbconvert_exporter": "python",
   "pygments_lexer": "ipython3",
   "version": "3.8.5"
  },
  "toc": {
   "base_numbering": 1,
   "nav_menu": {},
   "number_sections": true,
   "sideBar": true,
   "skip_h1_title": false,
   "title_cell": "Table of Contents",
   "title_sidebar": "Contents",
   "toc_cell": false,
   "toc_position": {
    "height": "calc(100% - 180px)",
    "left": "10px",
    "top": "150px",
    "width": "384px"
   },
   "toc_section_display": true,
   "toc_window_display": true
  }
 },
 "nbformat": 4,
 "nbformat_minor": 4
}
