{
 "cells": [
  {
   "cell_type": "markdown",
   "metadata": {
    "slideshow": {
     "slide_type": "slide"
    }
   },
   "source": [
    "# Introduction to Python and Natural Language Technologies\n",
    "## Lecture 08, Deep Learning for NLP\n",
    "\n",
    "November 04, 2020\n",
    "\n",
    "Ádám Kovács\n",
    "\n",
    "This lecture aims to give an introduction to the main concepts of NLP and deep learning. We are also going to learn about [Pytorch](https://pytorch.org/), one of the most popular deep learning libraries of Python.\n",
    "\n",
    "## Preparation\n",
    "\n",
    "[Download GLOVE](http://sandbox.hlt.bme.hu/~adaamko/glove.6B.100d.txt)"
   ]
  },
  {
   "cell_type": "code",
   "execution_count": null,
   "metadata": {},
   "outputs": [],
   "source": [
    "!pip install spacy\n",
    "\n",
    "!pip install textacy\n",
    "\n",
    "!pip install flair\n",
    "\n",
    "!pip install torchtext\n",
    "\n",
    "!pip install gensim\n",
    "\n",
    "!pip install -U scikit-learn\n",
    "\n",
    "!python -m spacy download en"
   ]
  },
  {
   "cell_type": "markdown",
   "metadata": {
    "slideshow": {
     "slide_type": "notes"
    }
   },
   "source": [
    "## NLP Tasks\n",
    "-  **Why do we need NLP?**\n",
    "    - Make the computer understand text\n",
    "    - Extract useful information from it\n",
    "    \n",
    "    \n",
    "-  **Tasks most people would think of**\n",
    "\n",
    "    - Spellchecking\n",
    "    \n",
    "    - Machine translation\n",
    "    \n",
    "    \n",
    "- **Basic preprocessing tasks:**\n",
    "\n",
    "    -   Tokenization\n",
    "        - Splitting text into words, sentences, documents, etc..\n",
    "\n",
    "    -   POS tagging\n",
    "        - Words can be groupped into grammatical categories.\n",
    "\n",
    "    -   Lemmatization\n",
    "        - Finding the lemma of a word, e.g. dogs -> dog\n",
    "        \n",
    "    -   Morphological analyzis\n",
    "    \n",
    "    \n",
    "\n",
    "- **More advanced**\n",
    "\n",
    "    -   Syntactic parsing\n",
    "\n",
    "    -   Named entity recognition\n",
    "    \n",
    "    -   Language modelling\n",
    "    \n",
    "    \n",
    "\n",
    "- **Semantic tasks:**\n",
    "\n",
    "    -   Summarization\n",
    "\n",
    "    -   Sentiment Analysis\n",
    "\n",
    "    -   Question Answering\n",
    "    -   Lexical Inference\n",
    "    -   Machine Comprehension\n",
    "    -   Chatbots?\n",
    "\n",
    "- **Demos:**\n",
    "    - http://e-magyar.hu/hu/parser\n",
    "    - https://demo.allennlp.org/reading-comprehension\n",
    "    - https://talktotransformer.com/\n",
    "    - [GPT-3](https://github.com/elyase/awesome-gpt3) (*has 175B parameters*)"
   ]
  },
  {
   "cell_type": "markdown",
   "metadata": {
    "slideshow": {
     "slide_type": "slide"
    }
   },
   "source": [
    "## Representations\n",
    "\n",
    "To be able to run machine learning algorithms the computer needs numerical representations. For natural text input this means we need a mapping that converts strings to a numerical represenatation. **one-hot encoding** is the easiest approach where we map each word to an integer id.\n"
   ]
  },
  {
   "cell_type": "code",
   "execution_count": null,
   "metadata": {
    "slideshow": {
     "slide_type": "slide"
    }
   },
   "outputs": [],
   "source": [
    "sentence = \"yesterday the lazy dog went to the store to buy food\""
   ]
  },
  {
   "cell_type": "code",
   "execution_count": null,
   "metadata": {
    "slideshow": {
     "slide_type": "slide"
    }
   },
   "outputs": [],
   "source": [
    "mapping = dict()\n",
    "max_id = 0\n",
    "\n",
    "for word in sentence.split():\n",
    "    if word not in mapping:\n",
    "        mapping[word] = max_id\n",
    "        max_id = max_id + 1\n",
    "        \n",
    "print(mapping)"
   ]
  },
  {
   "cell_type": "markdown",
   "metadata": {
    "slideshow": {
     "slide_type": "slide"
    }
   },
   "source": [
    "## Problems\n",
    "- When representing words with id's we assign them to the words in the order of the encounter. \n",
    "- This means that we may assign different vectors to the words each time we run the algorithm.\n",
    "- Doesn't include any concept of similarity, e.g: `similarity(embedding(cat, dog)) > similarity(embedding(cat, computer))`\n",
    "- The representation is very sparse and could have very high dimension, which would also slow the computations. The size is given by the vocabulary of our corpus, that can be over 100000 dimension.\n",
    "\n",
    "## Word embeddings\n",
    "\n",
    "- map each word to a small dimensional (around 100-300) continuous vectors.\n",
    "- this means that similar words should have similar vectors.\n",
    "    - what do we mean by word similarity ?\n",
    "    \n",
    "    \n",
    "### Cosine similarity\n",
    "\n",
    "- Now that we have word vectors, we need a way to quantify the similarity between individual words, according to these vectors. One such metric is cosine-similarity. We will be using this to find words that are \"close\" and \"far\" from one another.\n",
    "\n",
    "![image.png](https://cmry.github.io/sources/eucos.png)\n",
    "\n",
    "    \n",
    "### Creating word embeddings\n",
    "\n",
    "\"a word is characterized by the company it keeps\" -- popularized by Firth\n",
    "\n",
    "- A popular theory is that words are as similar as their context is\n",
    "- Word embeddings are also created with neural networks that predicts the word's context from the word itself\n",
    "\n",
    "To create word embeddings, a neural network is trained to perform the tasks. But then it is not used actually for the task it was trained it on. The goal is actually to learn the weights of the hidden layer. Then, these weights will be our vectors called \"word embeddings\".\n",
    "\n",
    "__Neural Network?__\n"
   ]
  },
  {
   "cell_type": "markdown",
   "metadata": {},
   "source": [
    "## Neural networks and Deep learning\n",
    "- Neural network is inspired by the information processing methods of biological nervous systems\n",
    "- It is composed of neurons, each layer connected to the next\n",
    "- Deep learning is a neural network consisting of multiple layers\n",
    "    - the idea is not new\n",
    "    - it is returned because of the rise of the GPUs\n",
    "    - good frameworks (Pytorch, Tensorflow)\n",
    "\n",
    "<img src=\"img/dl/network.png\">\n"
   ]
  },
  {
   "cell_type": "markdown",
   "metadata": {},
   "source": [
    "this is a __feed forward neural network__ with two hidden layers. Each neuron contains an activation function:\n",
    "\n",
    "$$\\mathbf{h_1} = \\sigma (\\mathbf{W_1 x})$$\n",
    "$$\\mathbf{h_2} = \\sigma (\\mathbf{W_2 h_1})$$\n",
    "$$\\mathbf{y} = \\sigma (\\mathbf{W_3 h_2})$$\n",
    "\n",
    "$\\sigma$: activation function, typically non-linear such as the sigmoid\n",
    "function $$\\sigma(x) = \\frac{1}{1 + e^{-x}}$$\n",
    "\n",
    "During the training, the weights are learned to predict a value of a new input."
   ]
  },
  {
   "cell_type": "markdown",
   "metadata": {},
   "source": [
    "__What is inside a neuron?__\n",
    "\n",
    "![perceptron](https://c.mql5.com/2/35/artificialneuron__1.gif)\n",
    "\n",
    "\n",
    "*image from https://www.mql5.com/en/blogs/post/724245*"
   ]
  },
  {
   "cell_type": "markdown",
   "metadata": {},
   "source": [
    "## ML vs DL\n",
    "\n",
    "- Deep learning\n",
    "    - Automatic feature engineering\n",
    "    - Scalable with big data\n",
    "    - Can solve non-separable problems as well (traditional methods struggle with non-linearity)\n",
    "    - Currently most state-of-the-art methods are based on DL\n",
    "- Traditional Machine Learning\n",
    "    - Feature extraction is done manually\n",
    "    - Can learn relatively well from small data (DL can’t)\n",
    "    - Scalability is worse with big data\n",
    "    - It can be enough for small tasks"
   ]
  },
  {
   "cell_type": "markdown",
   "metadata": {},
   "source": [
    "## Learning types \n",
    "-   **Supervised learning**\n",
    "\n",
    "    -   is a problem where for every input variable(x) there is an ouput\n",
    "        variable(y) in the training data\n",
    "\n",
    "    -   the preparation of the output variables is usually done with\n",
    "        Human resources - Labeled data\n",
    "\n",
    "-   **Unsupervised learning**\n",
    "\n",
    "    -   is a problem where only the input variable(x) is present in the\n",
    "        training data\n",
    "\n",
    "    -   still can be very useful since labeling data is very resource\n",
    "        hungry and expensive"
   ]
  },
  {
   "cell_type": "markdown",
   "metadata": {},
   "source": [
    "## Learning problems\n",
    "\n",
    "-   __Classification__ (supervised learning)\n",
    "\n",
    "    -   assign a label for each sample\n",
    "\n",
    "    -   labels are predefined and usually not very numerous\n",
    "\n",
    "    -   e.g. sentiment analysis\n",
    "\n",
    "-   __Regression__ (supervised learning)\n",
    "\n",
    "    -   predict a continuous variable\n",
    "\n",
    "    -   e.g. predict real estate prices, stock market based on history,\n",
    "        location, amenities\n",
    "\n",
    "\n",
    "-   __Clustering__ (unsupervised learning)\n",
    "\n",
    "    -   group samples into clusters according to a similarity measure\n",
    "     \n",
    "    -   e.g. group similar facebook comments\n",
    "    \n",
    "    -   goal: high intra-group similarity (samples in the same cluster\n",
    "        should be similar to each other), low inter-group similarity\n",
    "        (samples in different clusters shouldn’t be similar)\n"
   ]
  },
  {
   "cell_type": "markdown",
   "metadata": {},
   "source": [
    "### Evaluation - Binary classification\n",
    "\n",
    "<img src=\"img/dl/true_false.png\" />\n",
    "\n",
    "**Accuracy**: fraction of correctly guessed labels among all the samples\n",
    "\n",
    "#### __Precision, recall and F-score:__\n",
    "\n",
    "**Precision**: fraction of positive samples among those labeled positive\n",
    "$$\\text{Precision}=\\frac{tp}{tp+fp}$$\n",
    "\n",
    "**Recall**: fraction of recovered positive samples of all positive\n",
    "samples $$\\text{Recall}=\\frac{tp}{tp+fn}$$\n",
    "\n",
    "**F-score**: harmonic mean of precision and recall\n",
    "$$\\text{F-score} = 2 * \\frac{\\text{prec}  \\text{rec}}{\\text{prec} + \\text{rec}}$$\n"
   ]
  },
  {
   "cell_type": "markdown",
   "metadata": {},
   "source": [
    "### Evaluation - regression Root-mean-square error\n",
    "\n",
    "$$\\operatorname{RMSE}=\\sqrt{\\frac{\\sum_{t=1}^n (\\hat y_t - y_t)^2}{n}},$$\n",
    "\n",
    "where $\\hat y_t$ are the predicted values, $y_t$ is the true value and\n",
    "$n$ is the number of samples."
   ]
  },
  {
   "cell_type": "markdown",
   "metadata": {},
   "source": [
    "## Train, Validation and Test set\n",
    "\n",
    "- __training set__\n",
    "    - part of the dataset used for training -\n",
    "\n",
    "\n",
    "- __validation dataset__\n",
    "    - part of the dataset used for cross-validation, early stopping and\n",
    "    hyperparameter tuning\n",
    "\n",
    "\n",
    "- __test set__\n",
    "    - part of the dataset used for testing trained models. Your method\n",
    "    should only be tested once on the test set.\n",
    "\n",
    "<img src=\"img/dl/train_test_val.png\" />"
   ]
  },
  {
   "cell_type": "markdown",
   "metadata": {},
   "source": [
    "## Important concepts in Machine Learning\n",
    "\n",
    "- __Cost Function__: used to measure how badly our models are performing on a data\n",
    "- __Parameters__: variables that are updated during the training\n",
    "- __Sample__: single row in our data\n",
    "- __Batch size__: the number of samples our model works throught before updating the weights\n",
    "- __Epoch__: one epoch means that each sample in the training dataset was iterated through the model\n",
    "- __Iteration__ – one update on the weights. It happens once for each batch.\n",
    "- __Hyperparameters__ – variables that don't change during training (number of epochs, batch size, learning rate, etc..)"
   ]
  },
  {
   "cell_type": "markdown",
   "metadata": {},
   "source": [
    "- __Gradient descent__: used to find the global optimum in the cost function\n",
    "\n",
    "<img src=\"img/dl/gradient.gif?raw=true\" />"
   ]
  },
  {
   "cell_type": "markdown",
   "metadata": {},
   "source": [
    "## Back to embeddings\n",
    "\n",
    "Word embeddings are also learned with neural networks.\n",
    "\n",
    "Given a specific word, a neural network will look at the words nearby and learn the probability of being the \"nearby word\". The \"nearby\" is actually given by a windows size that is a parameter of the algorithm (dog is more likely to appear next to cat than computer).\n",
    "\n",
    "The training examples are generated from big text corpora. For example from the sentence “The quick brown fox jumps over the lazy dog.” we can generate the following inputs:\n",
    "\n",
    "![training examples](http://mccormickml.com/assets/word2vec/training_data.png)\n",
    "\n",
    "To do this, we first build a vocabulary of words from our training documents–let’s say we have a vocabulary of 10,000 unique words. The vocabulary of big corporas can be much more then 10,000 unique words, to handle them we usually substitute rare words with a special token (this is usually the _UNK_ token).\n",
    "\n",
    "First we build the vocabulary of our documents, then for representing words, we will use one-hot vectors. The output of the network will be a single vector that contains the probabilities for the \"nearby\" words.\n",
    "\n",
    "![architecture](http://mccormickml.com/assets/word2vec/skip_gram_net_arch.png)\n",
    "\n",
    "_(images from mccormicklm.com)_\n",
    "\n",
    "### Famous static word embeddings for English\n",
    "\n",
    "- [Word2vec](https://arxiv.org/pdf/1301.3781.pdf)\n",
    "- [GLOVE](https://nlp.stanford.edu/projects/glove/)\n",
    "\n",
    "### Contextual embeddings?\n",
    "\n",
    "- [Elmo](https://allennlp.org/elmo)\n",
    "- [BERT](https://arxiv.org/abs/1810.04805)\n",
    "- [Flair](https://www.aclweb.org/anthology/N19-4010/)\n",
    "\n",
    "For static embeddings, we will use a GLOVE embedding of 100 dimensional vectors trained on 6B tokens.\n",
    "\n",
    "[Download GLOVE](http://sandbox.hlt.bme.hu/~adaamko/glove.6B.100d.txt)"
   ]
  },
  {
   "cell_type": "code",
   "execution_count": 2,
   "metadata": {},
   "outputs": [],
   "source": [
    "import gensim"
   ]
  },
  {
   "cell_type": "code",
   "execution_count": 3,
   "metadata": {},
   "outputs": [],
   "source": [
    "embedding_file = \"glove.6B.100d.txt\"\n",
    "\n",
    "embedding = gensim.models.KeyedVectors.load_word2vec_format(embedding_file, binary=False)"
   ]
  },
  {
   "cell_type": "code",
   "execution_count": 4,
   "metadata": {},
   "outputs": [],
   "source": [
    "dog_vector = embedding[\"dog\"]"
   ]
  },
  {
   "cell_type": "code",
   "execution_count": 5,
   "metadata": {},
   "outputs": [
    {
     "data": {
      "text/plain": [
       "[('vice', 0.828760027885437),\n",
       " ('presidency', 0.715021550655365),\n",
       " ('former', 0.7060940265655518),\n",
       " ('presidents', 0.6961984038352966),\n",
       " ('chairman', 0.6928697824478149),\n",
       " ('secretary', 0.6858575344085693),\n",
       " ('clinton', 0.6844353675842285),\n",
       " ('leader', 0.6837862730026245),\n",
       " ('government', 0.6826310157775879),\n",
       " ('met', 0.6825153827667236)]"
      ]
     },
     "execution_count": 5,
     "metadata": {},
     "output_type": "execute_result"
    }
   ],
   "source": [
    "embedding.most_similar(\"president\")"
   ]
  },
  {
   "cell_type": "code",
   "execution_count": 5,
   "metadata": {},
   "outputs": [
    {
     "data": {
      "text/plain": [
       "[('queen', 0.7698541283607483),\n",
       " ('monarch', 0.6843380928039551),\n",
       " ('throne', 0.6755736470222473),\n",
       " ('daughter', 0.6594555974006653),\n",
       " ('princess', 0.6520533561706543),\n",
       " ('prince', 0.6517034769058228),\n",
       " ('elizabeth', 0.6464517712593079),\n",
       " ('mother', 0.631171703338623),\n",
       " ('emperor', 0.6106469631195068),\n",
       " ('wife', 0.6098655462265015)]"
      ]
     },
     "execution_count": 5,
     "metadata": {},
     "output_type": "execute_result"
    }
   ],
   "source": [
    "embedding.most_similar(positive=['woman', 'king'], negative=['man'])"
   ]
  },
  {
   "cell_type": "code",
   "execution_count": 6,
   "metadata": {},
   "outputs": [
    {
     "data": {
      "text/plain": [
       "0.28278553"
      ]
     },
     "execution_count": 6,
     "metadata": {},
     "output_type": "execute_result"
    }
   ],
   "source": [
    "embedding.similarity(\"woman\", \"computer\")"
   ]
  },
  {
   "cell_type": "code",
   "execution_count": 6,
   "metadata": {},
   "outputs": [],
   "source": [
    "from sklearn.manifold import TSNE\n",
    "import matplotlib.pyplot as plt\n",
    "\n",
    "%matplotlib inline\n",
    "\n",
    "import matplotlib\n",
    "matplotlib.style.use('ggplot')\n",
    "matplotlib.pyplot.rcParams['figure.figsize'] = (16, 10)\n",
    "matplotlib.pyplot.rcParams['font.family'] = 'sans-serif'\n",
    "matplotlib.pyplot.rcParams['font.size'] = 20"
   ]
  },
  {
   "cell_type": "code",
   "execution_count": 10,
   "metadata": {},
   "outputs": [],
   "source": [
    "def tsne_plot(model, size=500):\n",
    "    \"Creates and TSNE model and plots it\"\n",
    "    labels = []\n",
    "    tokens = []\n",
    "    \n",
    "    for i, word in enumerate(model.wv.vocab):\n",
    "        if len(tokens) > size:\n",
    "            break\n",
    "        tokens.append(model[word])\n",
    "        labels.append(word)\n",
    "    \n",
    "    tsne_model = TSNE(perplexity=40, n_components=2, init='pca', n_iter=2500, random_state=23)\n",
    "    new_values = tsne_model.fit_transform(tokens)\n",
    "\n",
    "    x = []\n",
    "    y = []\n",
    "    for value in new_values:\n",
    "        x.append(value[0])\n",
    "        y.append(value[1])\n",
    "        \n",
    "    for i in range(len(x)):\n",
    "        plt.scatter(x[i],y[i])\n",
    "        plt.annotate(labels[i],\n",
    "                     xy=(x[i], y[i]),\n",
    "                     xytext=(5, 2),\n",
    "                     textcoords='offset points',\n",
    "                     ha='right',\n",
    "                     va='bottom')\n",
    "    plt.show()"
   ]
  },
  {
   "cell_type": "code",
   "execution_count": 13,
   "metadata": {},
   "outputs": [
    {
     "name": "stderr",
     "output_type": "stream",
     "text": [
      "/home/adaamko/miniconda3/lib/python3.7/site-packages/ipykernel_launcher.py:6: DeprecationWarning: Call to deprecated `wv` (Attribute will be removed in 4.0.0, use self instead).\n",
      "  \n"
     ]
    },
    {
     "data": {
      "image/png": "[encoded data removed]",
      "text/plain": [
       "<Figure size 1152x720 with 1 Axes>"
      ]
     },
     "metadata": {},
     "output_type": "display_data"
    }
   ],
   "source": [
    "tsne_plot(embedding, 100)"
   ]
  },
  {
   "cell_type": "markdown",
   "metadata": {},
   "source": [
    "## Analogies"
   ]
  },
  {
   "cell_type": "code",
   "execution_count": 14,
   "metadata": {},
   "outputs": [],
   "source": [
    "def analogy(word1, word2, word3, n=5):\n",
    "    \n",
    "    #get vectors for each word\n",
    "    word1_vector = embedding[word1]\n",
    "    word2_vector = embedding[word2]\n",
    "    word3_vector = embedding[word3]\n",
    "    \n",
    "    #calculate analogy vector\n",
    "    analogy_vector = embedding.most_similar(positive=[word3, word2], negative=[word1])\n",
    "    \n",
    "    print(word1 + \" is to \" + word2 + \" as \" + word3 + \" is to...\")\n",
    "    \n",
    "    return analogy_vector"
   ]
  },
  {
   "cell_type": "code",
   "execution_count": 19,
   "metadata": {},
   "outputs": [
    {
     "name": "stdout",
     "output_type": "stream",
     "text": [
      "obama is to america as merkel is to...\n"
     ]
    },
    {
     "data": {
      "text/plain": [
       "[('europe', 0.7116252183914185),\n",
       " ('germany', 0.6563645601272583),\n",
       " ('european', 0.614357054233551),\n",
       " ('france', 0.5843942761421204),\n",
       " ('scandinavia', 0.5677825808525085),\n",
       " ('german', 0.5659710168838501),\n",
       " ('eu', 0.5564638376235962),\n",
       " ('world', 0.5447453260421753),\n",
       " ('continent', 0.539059042930603),\n",
       " ('baltic', 0.5320243239402771)]"
      ]
     },
     "execution_count": 19,
     "metadata": {},
     "output_type": "execute_result"
    }
   ],
   "source": [
    "analogy('man', 'king', 'woman')"
   ]
  },
  {
   "cell_type": "markdown",
   "metadata": {},
   "source": [
    "## Contextual embeddings\n",
    "\n",
    "In GloVe and Word2vec representations, words have a static representation. But words can have different meaning in different contexts, e.g. the word \"stick\":\n",
    "\n",
    "1. Find some dry sticks and we'll make a campfire.\n",
    "2. Let's stick with glove embeddings.\n",
    "\n",
    "![elmo](http://jalammar.github.io/images/elmo-embedding-robin-williams.png)\n",
    "\n",
    "_(Peters et. al., 2018 in the ELMo paper)_"
   ]
  },
  {
   "cell_type": "code",
   "execution_count": 1,
   "metadata": {},
   "outputs": [
    {
     "name": "stderr",
     "output_type": "stream",
     "text": [
      "/home/adaamko/miniconda3/lib/python3.7/site-packages/torch/cuda/__init__.py:52: UserWarning: CUDA initialization: Found no NVIDIA driver on your system. Please check that you have an NVIDIA GPU and installed a driver from http://www.nvidia.com/Download/index.aspx (Triggered internally at  /opt/conda/conda-bld/pytorch_1603729047590/work/c10/cuda/CUDAFunctions.cpp:100.)\n",
      "  return torch._C._cuda_getDeviceCount() > 0\n"
     ]
    },
    {
     "name": "stdout",
     "output_type": "stream",
     "text": [
      "2020-11-04 11:06:43,313 https://flair.informatik.hu-berlin.de/resources/embeddings/flair/news-forward-0.4.1.pt not found in cache, downloading to /tmp/tmph2sqnvnf\n"
     ]
    },
    {
     "name": "stderr",
     "output_type": "stream",
     "text": [
      "100%|██████████| 73034624/73034624 [00:03<00:00, 18500711.49B/s]"
     ]
    },
    {
     "name": "stdout",
     "output_type": "stream",
     "text": [
      "2020-11-04 11:06:47,376 copying /tmp/tmph2sqnvnf to cache at /home/adaamko/.flair/embeddings/news-forward-0.4.1.pt\n"
     ]
    },
    {
     "name": "stderr",
     "output_type": "stream",
     "text": [
      "\n"
     ]
    },
    {
     "name": "stdout",
     "output_type": "stream",
     "text": [
      "2020-11-04 11:06:47,476 removing temp file /tmp/tmph2sqnvnf\n",
      "Token: 1 Let\n",
      "tensor([ 0.0687,  0.0029, -0.0452,  ..., -0.0042, -0.0120,  0.1560])\n",
      "Token: 2 's\n",
      "tensor([ 8.3051e-03,  5.2285e-03,  5.4497e-02,  ..., -5.9337e-05,\n",
      "        -7.1995e-02,  2.8605e-02])\n",
      "Token: 3 stick\n",
      "tensor([-0.0033,  0.0043,  0.0087,  ..., -0.0058, -0.0211,  0.0066])\n",
      "Token: 4 with\n",
      "tensor([-0.0036,  0.0004,  0.0244,  ..., -0.0002, -0.0004,  0.0143])\n",
      "Token: 5 glove\n",
      "tensor([-8.7836e-05,  1.8126e-04,  2.7836e-02,  ..., -3.5465e-02,\n",
      "         1.5061e-03,  4.0949e-03])\n",
      "Token: 6 embeddings\n",
      "tensor([ 1.0793e-05,  1.5989e-04,  5.0775e-02,  ..., -5.3303e-04,\n",
      "        -1.2207e-02,  1.5378e-02])\n",
      "Token: 7 .\n",
      "tensor([7.7768e-04, 6.3857e-05, 2.1315e-01,  ..., 3.3295e-05, 4.0031e-03,\n",
      "        4.8209e-03])\n"
     ]
    }
   ],
   "source": [
    "# The sentence objects holds a sentence that we may want to embed or tag\n",
    "from flair.data import Sentence\n",
    "from flair.embeddings import FlairEmbeddings\n",
    "\n",
    "# init embedding\n",
    "flair_embedding_forward = FlairEmbeddings('news-forward')\n",
    "\n",
    "# create a sentence\n",
    "sentence1 = Sentence(\"Find some dry sticks and we'll make a campfire.\")\n",
    "sentence2 = Sentence(\"Let's stick with glove embeddings.\")\n",
    "\n",
    "# embed words in sentence\n",
    "flair_embedding_forward.embed(sentence2)\n",
    "for token in sentence2:\n",
    "    print(token)\n",
    "    print(token.embedding)"
   ]
  },
  {
   "cell_type": "markdown",
   "metadata": {},
   "source": [
    "In Flair, a pretrained NER tagger is also available to use"
   ]
  },
  {
   "cell_type": "markdown",
   "metadata": {},
   "source": [
    "### Load matplotlib, pandas and spacy"
   ]
  },
  {
   "cell_type": "code",
   "execution_count": 7,
   "metadata": {},
   "outputs": [],
   "source": [
    "import spacy\n",
    "from spacy import displacy\n",
    "\n",
    "import os\n",
    "\n",
    "import pandas as pd\n",
    "\n",
    "import spacy\n",
    "import pandas as pd\n",
    "import re"
   ]
  },
  {
   "cell_type": "code",
   "execution_count": 8,
   "metadata": {},
   "outputs": [],
   "source": [
    "nlp = spacy.load(\"en\")"
   ]
  },
  {
   "cell_type": "markdown",
   "metadata": {},
   "source": [
    "# Data analysis\n",
    "\n",
    "- we use nlp frameworks for the basic tasks\n",
    "- for the preprocessing tasks (lemmatization, tokenization) we use [spaCy](https://spacy.io/)\n",
    "- for keyword extraction and various text analyzation tasks we use [textacy](https://github.com/chartbeat-labs/textacy)\n",
    "- textacy builds on spaCy output\n",
    "- both are open source python libraries"
   ]
  },
  {
   "cell_type": "markdown",
   "metadata": {},
   "source": [
    "__AG_NEWS__ classes:\n",
    "- World\n",
    "\n",
    "- Sports\n",
    "\n",
    "- Business\n",
    "\n",
    "- Sci/Tech"
   ]
  },
  {
   "cell_type": "code",
   "execution_count": 9,
   "metadata": {},
   "outputs": [
    {
     "name": "stderr",
     "output_type": "stream",
     "text": [
      "120000lines [00:11, 10256.61lines/s]\n",
      "120000lines [00:24, 4902.06lines/s]\n",
      "7600lines [00:01, 4888.81lines/s]\n"
     ]
    },
    {
     "data": {
      "text/plain": [
       "(<torchtext.datasets.text_classification.TextClassificationDataset at 0x7fd3bad72cc0>,\n",
       " <torchtext.datasets.text_classification.TextClassificationDataset at 0x7fd3eb4615c0>)"
      ]
     },
     "execution_count": 9,
     "metadata": {},
     "output_type": "execute_result"
    }
   ],
   "source": [
    "NGRAMS = 2\n",
    "from torchtext import data\n",
    "from torchtext.datasets import text_classification\n",
    "import os\n",
    "if not os.path.isdir('./data'):\n",
    "    os.mkdir('./data')\n",
    "text_classification.DATASETS['AG_NEWS'](\n",
    "    root='./data', ngrams=NGRAMS, vocab=None)"
   ]
  },
  {
   "cell_type": "code",
   "execution_count": 10,
   "metadata": {},
   "outputs": [],
   "source": [
    "train_data = pd.read_csv(\"./data/ag_news_csv/train.csv\",quotechar='\"', names=['label', 'title', 'description'])\n",
    "test_data = pd.read_csv(\"./data/ag_news_csv/test.csv\",quotechar='\"', names=['label', 'title', 'description'])"
   ]
  },
  {
   "cell_type": "code",
   "execution_count": 11,
   "metadata": {},
   "outputs": [
    {
     "data": {
      "text/html": [
       "<div>\n",
       "<style scoped>\n",
       "    .dataframe tbody tr th:only-of-type {\n",
       "        vertical-align: middle;\n",
       "    }\n",
       "\n",
       "    .dataframe tbody tr th {\n",
       "        vertical-align: top;\n",
       "    }\n",
       "\n",
       "    .dataframe thead th {\n",
       "        text-align: right;\n",
       "    }\n",
       "</style>\n",
       "<table border=\"1\" class=\"dataframe\">\n",
       "  <thead>\n",
       "    <tr style=\"text-align: right;\">\n",
       "      <th></th>\n",
       "      <th>label</th>\n",
       "      <th>title</th>\n",
       "      <th>description</th>\n",
       "    </tr>\n",
       "  </thead>\n",
       "  <tbody>\n",
       "    <tr>\n",
       "      <th>0</th>\n",
       "      <td>3</td>\n",
       "      <td>Wall St. Bears Claw Back Into the Black (Reuters)</td>\n",
       "      <td>Reuters - Short-sellers, Wall Street's dwindli...</td>\n",
       "    </tr>\n",
       "    <tr>\n",
       "      <th>1</th>\n",
       "      <td>3</td>\n",
       "      <td>Carlyle Looks Toward Commercial Aerospace (Reu...</td>\n",
       "      <td>Reuters - Private investment firm Carlyle Grou...</td>\n",
       "    </tr>\n",
       "    <tr>\n",
       "      <th>2</th>\n",
       "      <td>3</td>\n",
       "      <td>Oil and Economy Cloud Stocks' Outlook (Reuters)</td>\n",
       "      <td>Reuters - Soaring crude prices plus worries\\ab...</td>\n",
       "    </tr>\n",
       "    <tr>\n",
       "      <th>3</th>\n",
       "      <td>3</td>\n",
       "      <td>Iraq Halts Oil Exports from Main Southern Pipe...</td>\n",
       "      <td>Reuters - Authorities have halted oil export\\f...</td>\n",
       "    </tr>\n",
       "    <tr>\n",
       "      <th>4</th>\n",
       "      <td>3</td>\n",
       "      <td>Oil prices soar to all-time record, posing new...</td>\n",
       "      <td>AFP - Tearaway world oil prices, toppling reco...</td>\n",
       "    </tr>\n",
       "  </tbody>\n",
       "</table>\n",
       "</div>"
      ],
      "text/plain": [
       "   label                                              title  \\\n",
       "0      3  Wall St. Bears Claw Back Into the Black (Reuters)   \n",
       "1      3  Carlyle Looks Toward Commercial Aerospace (Reu...   \n",
       "2      3    Oil and Economy Cloud Stocks' Outlook (Reuters)   \n",
       "3      3  Iraq Halts Oil Exports from Main Southern Pipe...   \n",
       "4      3  Oil prices soar to all-time record, posing new...   \n",
       "\n",
       "                                         description  \n",
       "0  Reuters - Short-sellers, Wall Street's dwindli...  \n",
       "1  Reuters - Private investment firm Carlyle Grou...  \n",
       "2  Reuters - Soaring crude prices plus worries\\ab...  \n",
       "3  Reuters - Authorities have halted oil export\\f...  \n",
       "4  AFP - Tearaway world oil prices, toppling reco...  "
      ]
     },
     "execution_count": 11,
     "metadata": {},
     "output_type": "execute_result"
    }
   ],
   "source": [
    "train_data.head()"
   ]
  },
  {
   "cell_type": "code",
   "execution_count": 12,
   "metadata": {},
   "outputs": [],
   "source": [
    "train_data[\"text\"] = train_data.title +  \",\" + train_data.description\n",
    "train_data = train_data.drop(\"title\", axis=1)\n",
    "train_data = train_data.drop(\"description\", axis=1)\n",
    "\n",
    "test_data[\"text\"] = test_data.title +  \",\" + test_data.description\n",
    "test_data = test_data.drop(\"title\", axis=1)\n",
    "test_data = test_data.drop(\"description\", axis=1)"
   ]
  },
  {
   "cell_type": "code",
   "execution_count": 13,
   "metadata": {},
   "outputs": [
    {
     "data": {
      "text/plain": [
       "4    30000\n",
       "3    30000\n",
       "2    30000\n",
       "1    30000\n",
       "Name: label, dtype: int64"
      ]
     },
     "execution_count": 13,
     "metadata": {},
     "output_type": "execute_result"
    }
   ],
   "source": [
    "train_data.label.value_counts()"
   ]
  },
  {
   "cell_type": "code",
   "execution_count": 14,
   "metadata": {},
   "outputs": [],
   "source": [
    "doc = nlp(\"Donald Trump called and asked me to serve as his running mate and Vice Presidential nominee.\")"
   ]
  },
  {
   "cell_type": "code",
   "execution_count": 15,
   "metadata": {},
   "outputs": [
    {
     "name": "stdout",
     "output_type": "stream",
     "text": [
      "PROPN\n",
      "PROPN\n",
      "VERB\n",
      "CCONJ\n",
      "VERB\n",
      "PRON\n",
      "PART\n",
      "VERB\n",
      "SCONJ\n",
      "DET\n",
      "VERB\n",
      "NOUN\n",
      "CCONJ\n",
      "PROPN\n",
      "PROPN\n",
      "NOUN\n",
      "PUNCT\n"
     ]
    }
   ],
   "source": [
    "for tok in doc:\n",
    "    print(tok.pos_)"
   ]
  },
  {
   "cell_type": "code",
   "execution_count": 16,
   "metadata": {},
   "outputs": [
    {
     "data": {
      "text/html": [
       "<span class=\"tex2jax_ignore\"><svg xmlns=\"http://www.w3.org/2000/svg\" xmlns:xlink=\"http://www.w3.org/1999/xlink\" xml:lang=\"en\" id=\"13bdeb545efd41d2afdf44023bd2f4c2-0\" class=\"displacy\" width=\"1650\" height=\"337.0\" direction=\"ltr\" style=\"max-width: none; height: 337.0px; color: #000000; background: #ffffff; font-family: Arial; direction: ltr\">\n",
       "<text class=\"displacy-token\" fill=\"currentColor\" text-anchor=\"middle\" y=\"247.0\">\n",
       "    <tspan class=\"displacy-word\" fill=\"currentColor\" x=\"50\">Donald</tspan>\n",
       "    <tspan class=\"displacy-tag\" dy=\"2em\" fill=\"currentColor\" x=\"50\">PROPN</tspan>\n",
       "</text>\n",
       "\n",
       "<text class=\"displacy-token\" fill=\"currentColor\" text-anchor=\"middle\" y=\"247.0\">\n",
       "    <tspan class=\"displacy-word\" fill=\"currentColor\" x=\"150\">Trump</tspan>\n",
       "    <tspan class=\"displacy-tag\" dy=\"2em\" fill=\"currentColor\" x=\"150\">PROPN</tspan>\n",
       "</text>\n",
       "\n",
       "<text class=\"displacy-token\" fill=\"currentColor\" text-anchor=\"middle\" y=\"247.0\">\n",
       "    <tspan class=\"displacy-word\" fill=\"currentColor\" x=\"250\">called</tspan>\n",
       "    <tspan class=\"displacy-tag\" dy=\"2em\" fill=\"currentColor\" x=\"250\">VERB</tspan>\n",
       "</text>\n",
       "\n",
       "<text class=\"displacy-token\" fill=\"currentColor\" text-anchor=\"middle\" y=\"247.0\">\n",
       "    <tspan class=\"displacy-word\" fill=\"currentColor\" x=\"350\">and</tspan>\n",
       "    <tspan class=\"displacy-tag\" dy=\"2em\" fill=\"currentColor\" x=\"350\">CCONJ</tspan>\n",
       "</text>\n",
       "\n",
       "<text class=\"displacy-token\" fill=\"currentColor\" text-anchor=\"middle\" y=\"247.0\">\n",
       "    <tspan class=\"displacy-word\" fill=\"currentColor\" x=\"450\">asked</tspan>\n",
       "    <tspan class=\"displacy-tag\" dy=\"2em\" fill=\"currentColor\" x=\"450\">VERB</tspan>\n",
       "</text>\n",
       "\n",
       "<text class=\"displacy-token\" fill=\"currentColor\" text-anchor=\"middle\" y=\"247.0\">\n",
       "    <tspan class=\"displacy-word\" fill=\"currentColor\" x=\"550\">me</tspan>\n",
       "    <tspan class=\"displacy-tag\" dy=\"2em\" fill=\"currentColor\" x=\"550\">PRON</tspan>\n",
       "</text>\n",
       "\n",
       "<text class=\"displacy-token\" fill=\"currentColor\" text-anchor=\"middle\" y=\"247.0\">\n",
       "    <tspan class=\"displacy-word\" fill=\"currentColor\" x=\"650\">to</tspan>\n",
       "    <tspan class=\"displacy-tag\" dy=\"2em\" fill=\"currentColor\" x=\"650\">PART</tspan>\n",
       "</text>\n",
       "\n",
       "<text class=\"displacy-token\" fill=\"currentColor\" text-anchor=\"middle\" y=\"247.0\">\n",
       "    <tspan class=\"displacy-word\" fill=\"currentColor\" x=\"750\">serve</tspan>\n",
       "    <tspan class=\"displacy-tag\" dy=\"2em\" fill=\"currentColor\" x=\"750\">VERB</tspan>\n",
       "</text>\n",
       "\n",
       "<text class=\"displacy-token\" fill=\"currentColor\" text-anchor=\"middle\" y=\"247.0\">\n",
       "    <tspan class=\"displacy-word\" fill=\"currentColor\" x=\"850\">as</tspan>\n",
       "    <tspan class=\"displacy-tag\" dy=\"2em\" fill=\"currentColor\" x=\"850\">SCONJ</tspan>\n",
       "</text>\n",
       "\n",
       "<text class=\"displacy-token\" fill=\"currentColor\" text-anchor=\"middle\" y=\"247.0\">\n",
       "    <tspan class=\"displacy-word\" fill=\"currentColor\" x=\"950\">his</tspan>\n",
       "    <tspan class=\"displacy-tag\" dy=\"2em\" fill=\"currentColor\" x=\"950\">DET</tspan>\n",
       "</text>\n",
       "\n",
       "<text class=\"displacy-token\" fill=\"currentColor\" text-anchor=\"middle\" y=\"247.0\">\n",
       "    <tspan class=\"displacy-word\" fill=\"currentColor\" x=\"1050\">running</tspan>\n",
       "    <tspan class=\"displacy-tag\" dy=\"2em\" fill=\"currentColor\" x=\"1050\">VERB</tspan>\n",
       "</text>\n",
       "\n",
       "<text class=\"displacy-token\" fill=\"currentColor\" text-anchor=\"middle\" y=\"247.0\">\n",
       "    <tspan class=\"displacy-word\" fill=\"currentColor\" x=\"1150\">mate</tspan>\n",
       "    <tspan class=\"displacy-tag\" dy=\"2em\" fill=\"currentColor\" x=\"1150\">NOUN</tspan>\n",
       "</text>\n",
       "\n",
       "<text class=\"displacy-token\" fill=\"currentColor\" text-anchor=\"middle\" y=\"247.0\">\n",
       "    <tspan class=\"displacy-word\" fill=\"currentColor\" x=\"1250\">and</tspan>\n",
       "    <tspan class=\"displacy-tag\" dy=\"2em\" fill=\"currentColor\" x=\"1250\">CCONJ</tspan>\n",
       "</text>\n",
       "\n",
       "<text class=\"displacy-token\" fill=\"currentColor\" text-anchor=\"middle\" y=\"247.0\">\n",
       "    <tspan class=\"displacy-word\" fill=\"currentColor\" x=\"1350\">Vice</tspan>\n",
       "    <tspan class=\"displacy-tag\" dy=\"2em\" fill=\"currentColor\" x=\"1350\">PROPN</tspan>\n",
       "</text>\n",
       "\n",
       "<text class=\"displacy-token\" fill=\"currentColor\" text-anchor=\"middle\" y=\"247.0\">\n",
       "    <tspan class=\"displacy-word\" fill=\"currentColor\" x=\"1450\">Presidential</tspan>\n",
       "    <tspan class=\"displacy-tag\" dy=\"2em\" fill=\"currentColor\" x=\"1450\">PROPN</tspan>\n",
       "</text>\n",
       "\n",
       "<text class=\"displacy-token\" fill=\"currentColor\" text-anchor=\"middle\" y=\"247.0\">\n",
       "    <tspan class=\"displacy-word\" fill=\"currentColor\" x=\"1550\">nominee.</tspan>\n",
       "    <tspan class=\"displacy-tag\" dy=\"2em\" fill=\"currentColor\" x=\"1550\">NOUN</tspan>\n",
       "</text>\n",
       "\n",
       "<g class=\"displacy-arrow\">\n",
       "    <path class=\"displacy-arc\" id=\"arrow-13bdeb545efd41d2afdf44023bd2f4c2-0-0\" stroke-width=\"2px\" d=\"M70,202.0 C70,152.0 135.0,152.0 135.0,202.0\" fill=\"none\" stroke=\"currentColor\"/>\n",
       "    <text dy=\"1.25em\" style=\"font-size: 0.8em; letter-spacing: 1px\">\n",
       "        <textPath xlink:href=\"#arrow-13bdeb545efd41d2afdf44023bd2f4c2-0-0\" class=\"displacy-label\" startOffset=\"50%\" side=\"left\" fill=\"currentColor\" text-anchor=\"middle\">compound</textPath>\n",
       "    </text>\n",
       "    <path class=\"displacy-arrowhead\" d=\"M70,204.0 L62,192.0 78,192.0\" fill=\"currentColor\"/>\n",
       "</g>\n",
       "\n",
       "<g class=\"displacy-arrow\">\n",
       "    <path class=\"displacy-arc\" id=\"arrow-13bdeb545efd41d2afdf44023bd2f4c2-0-1\" stroke-width=\"2px\" d=\"M170,202.0 C170,152.0 235.0,152.0 235.0,202.0\" fill=\"none\" stroke=\"currentColor\"/>\n",
       "    <text dy=\"1.25em\" style=\"font-size: 0.8em; letter-spacing: 1px\">\n",
       "        <textPath xlink:href=\"#arrow-13bdeb545efd41d2afdf44023bd2f4c2-0-1\" class=\"displacy-label\" startOffset=\"50%\" side=\"left\" fill=\"currentColor\" text-anchor=\"middle\">nsubj</textPath>\n",
       "    </text>\n",
       "    <path class=\"displacy-arrowhead\" d=\"M170,204.0 L162,192.0 178,192.0\" fill=\"currentColor\"/>\n",
       "</g>\n",
       "\n",
       "<g class=\"displacy-arrow\">\n",
       "    <path class=\"displacy-arc\" id=\"arrow-13bdeb545efd41d2afdf44023bd2f4c2-0-2\" stroke-width=\"2px\" d=\"M270,202.0 C270,152.0 335.0,152.0 335.0,202.0\" fill=\"none\" stroke=\"currentColor\"/>\n",
       "    <text dy=\"1.25em\" style=\"font-size: 0.8em; letter-spacing: 1px\">\n",
       "        <textPath xlink:href=\"#arrow-13bdeb545efd41d2afdf44023bd2f4c2-0-2\" class=\"displacy-label\" startOffset=\"50%\" side=\"left\" fill=\"currentColor\" text-anchor=\"middle\">cc</textPath>\n",
       "    </text>\n",
       "    <path class=\"displacy-arrowhead\" d=\"M335.0,204.0 L343.0,192.0 327.0,192.0\" fill=\"currentColor\"/>\n",
       "</g>\n",
       "\n",
       "<g class=\"displacy-arrow\">\n",
       "    <path class=\"displacy-arc\" id=\"arrow-13bdeb545efd41d2afdf44023bd2f4c2-0-3\" stroke-width=\"2px\" d=\"M270,202.0 C270,102.0 440.0,102.0 440.0,202.0\" fill=\"none\" stroke=\"currentColor\"/>\n",
       "    <text dy=\"1.25em\" style=\"font-size: 0.8em; letter-spacing: 1px\">\n",
       "        <textPath xlink:href=\"#arrow-13bdeb545efd41d2afdf44023bd2f4c2-0-3\" class=\"displacy-label\" startOffset=\"50%\" side=\"left\" fill=\"currentColor\" text-anchor=\"middle\">conj</textPath>\n",
       "    </text>\n",
       "    <path class=\"displacy-arrowhead\" d=\"M440.0,204.0 L448.0,192.0 432.0,192.0\" fill=\"currentColor\"/>\n",
       "</g>\n",
       "\n",
       "<g class=\"displacy-arrow\">\n",
       "    <path class=\"displacy-arc\" id=\"arrow-13bdeb545efd41d2afdf44023bd2f4c2-0-4\" stroke-width=\"2px\" d=\"M470,202.0 C470,152.0 535.0,152.0 535.0,202.0\" fill=\"none\" stroke=\"currentColor\"/>\n",
       "    <text dy=\"1.25em\" style=\"font-size: 0.8em; letter-spacing: 1px\">\n",
       "        <textPath xlink:href=\"#arrow-13bdeb545efd41d2afdf44023bd2f4c2-0-4\" class=\"displacy-label\" startOffset=\"50%\" side=\"left\" fill=\"currentColor\" text-anchor=\"middle\">dobj</textPath>\n",
       "    </text>\n",
       "    <path class=\"displacy-arrowhead\" d=\"M535.0,204.0 L543.0,192.0 527.0,192.0\" fill=\"currentColor\"/>\n",
       "</g>\n",
       "\n",
       "<g class=\"displacy-arrow\">\n",
       "    <path class=\"displacy-arc\" id=\"arrow-13bdeb545efd41d2afdf44023bd2f4c2-0-5\" stroke-width=\"2px\" d=\"M670,202.0 C670,152.0 735.0,152.0 735.0,202.0\" fill=\"none\" stroke=\"currentColor\"/>\n",
       "    <text dy=\"1.25em\" style=\"font-size: 0.8em; letter-spacing: 1px\">\n",
       "        <textPath xlink:href=\"#arrow-13bdeb545efd41d2afdf44023bd2f4c2-0-5\" class=\"displacy-label\" startOffset=\"50%\" side=\"left\" fill=\"currentColor\" text-anchor=\"middle\">aux</textPath>\n",
       "    </text>\n",
       "    <path class=\"displacy-arrowhead\" d=\"M670,204.0 L662,192.0 678,192.0\" fill=\"currentColor\"/>\n",
       "</g>\n",
       "\n",
       "<g class=\"displacy-arrow\">\n",
       "    <path class=\"displacy-arc\" id=\"arrow-13bdeb545efd41d2afdf44023bd2f4c2-0-6\" stroke-width=\"2px\" d=\"M470,202.0 C470,52.0 745.0,52.0 745.0,202.0\" fill=\"none\" stroke=\"currentColor\"/>\n",
       "    <text dy=\"1.25em\" style=\"font-size: 0.8em; letter-spacing: 1px\">\n",
       "        <textPath xlink:href=\"#arrow-13bdeb545efd41d2afdf44023bd2f4c2-0-6\" class=\"displacy-label\" startOffset=\"50%\" side=\"left\" fill=\"currentColor\" text-anchor=\"middle\">xcomp</textPath>\n",
       "    </text>\n",
       "    <path class=\"displacy-arrowhead\" d=\"M745.0,204.0 L753.0,192.0 737.0,192.0\" fill=\"currentColor\"/>\n",
       "</g>\n",
       "\n",
       "<g class=\"displacy-arrow\">\n",
       "    <path class=\"displacy-arc\" id=\"arrow-13bdeb545efd41d2afdf44023bd2f4c2-0-7\" stroke-width=\"2px\" d=\"M770,202.0 C770,152.0 835.0,152.0 835.0,202.0\" fill=\"none\" stroke=\"currentColor\"/>\n",
       "    <text dy=\"1.25em\" style=\"font-size: 0.8em; letter-spacing: 1px\">\n",
       "        <textPath xlink:href=\"#arrow-13bdeb545efd41d2afdf44023bd2f4c2-0-7\" class=\"displacy-label\" startOffset=\"50%\" side=\"left\" fill=\"currentColor\" text-anchor=\"middle\">prep</textPath>\n",
       "    </text>\n",
       "    <path class=\"displacy-arrowhead\" d=\"M835.0,204.0 L843.0,192.0 827.0,192.0\" fill=\"currentColor\"/>\n",
       "</g>\n",
       "\n",
       "<g class=\"displacy-arrow\">\n",
       "    <path class=\"displacy-arc\" id=\"arrow-13bdeb545efd41d2afdf44023bd2f4c2-0-8\" stroke-width=\"2px\" d=\"M970,202.0 C970,102.0 1140.0,102.0 1140.0,202.0\" fill=\"none\" stroke=\"currentColor\"/>\n",
       "    <text dy=\"1.25em\" style=\"font-size: 0.8em; letter-spacing: 1px\">\n",
       "        <textPath xlink:href=\"#arrow-13bdeb545efd41d2afdf44023bd2f4c2-0-8\" class=\"displacy-label\" startOffset=\"50%\" side=\"left\" fill=\"currentColor\" text-anchor=\"middle\">poss</textPath>\n",
       "    </text>\n",
       "    <path class=\"displacy-arrowhead\" d=\"M970,204.0 L962,192.0 978,192.0\" fill=\"currentColor\"/>\n",
       "</g>\n",
       "\n",
       "<g class=\"displacy-arrow\">\n",
       "    <path class=\"displacy-arc\" id=\"arrow-13bdeb545efd41d2afdf44023bd2f4c2-0-9\" stroke-width=\"2px\" d=\"M1070,202.0 C1070,152.0 1135.0,152.0 1135.0,202.0\" fill=\"none\" stroke=\"currentColor\"/>\n",
       "    <text dy=\"1.25em\" style=\"font-size: 0.8em; letter-spacing: 1px\">\n",
       "        <textPath xlink:href=\"#arrow-13bdeb545efd41d2afdf44023bd2f4c2-0-9\" class=\"displacy-label\" startOffset=\"50%\" side=\"left\" fill=\"currentColor\" text-anchor=\"middle\">compound</textPath>\n",
       "    </text>\n",
       "    <path class=\"displacy-arrowhead\" d=\"M1070,204.0 L1062,192.0 1078,192.0\" fill=\"currentColor\"/>\n",
       "</g>\n",
       "\n",
       "<g class=\"displacy-arrow\">\n",
       "    <path class=\"displacy-arc\" id=\"arrow-13bdeb545efd41d2afdf44023bd2f4c2-0-10\" stroke-width=\"2px\" d=\"M870,202.0 C870,52.0 1145.0,52.0 1145.0,202.0\" fill=\"none\" stroke=\"currentColor\"/>\n",
       "    <text dy=\"1.25em\" style=\"font-size: 0.8em; letter-spacing: 1px\">\n",
       "        <textPath xlink:href=\"#arrow-13bdeb545efd41d2afdf44023bd2f4c2-0-10\" class=\"displacy-label\" startOffset=\"50%\" side=\"left\" fill=\"currentColor\" text-anchor=\"middle\">pobj</textPath>\n",
       "    </text>\n",
       "    <path class=\"displacy-arrowhead\" d=\"M1145.0,204.0 L1153.0,192.0 1137.0,192.0\" fill=\"currentColor\"/>\n",
       "</g>\n",
       "\n",
       "<g class=\"displacy-arrow\">\n",
       "    <path class=\"displacy-arc\" id=\"arrow-13bdeb545efd41d2afdf44023bd2f4c2-0-11\" stroke-width=\"2px\" d=\"M1170,202.0 C1170,152.0 1235.0,152.0 1235.0,202.0\" fill=\"none\" stroke=\"currentColor\"/>\n",
       "    <text dy=\"1.25em\" style=\"font-size: 0.8em; letter-spacing: 1px\">\n",
       "        <textPath xlink:href=\"#arrow-13bdeb545efd41d2afdf44023bd2f4c2-0-11\" class=\"displacy-label\" startOffset=\"50%\" side=\"left\" fill=\"currentColor\" text-anchor=\"middle\">cc</textPath>\n",
       "    </text>\n",
       "    <path class=\"displacy-arrowhead\" d=\"M1235.0,204.0 L1243.0,192.0 1227.0,192.0\" fill=\"currentColor\"/>\n",
       "</g>\n",
       "\n",
       "<g class=\"displacy-arrow\">\n",
       "    <path class=\"displacy-arc\" id=\"arrow-13bdeb545efd41d2afdf44023bd2f4c2-0-12\" stroke-width=\"2px\" d=\"M1370,202.0 C1370,152.0 1435.0,152.0 1435.0,202.0\" fill=\"none\" stroke=\"currentColor\"/>\n",
       "    <text dy=\"1.25em\" style=\"font-size: 0.8em; letter-spacing: 1px\">\n",
       "        <textPath xlink:href=\"#arrow-13bdeb545efd41d2afdf44023bd2f4c2-0-12\" class=\"displacy-label\" startOffset=\"50%\" side=\"left\" fill=\"currentColor\" text-anchor=\"middle\">compound</textPath>\n",
       "    </text>\n",
       "    <path class=\"displacy-arrowhead\" d=\"M1370,204.0 L1362,192.0 1378,192.0\" fill=\"currentColor\"/>\n",
       "</g>\n",
       "\n",
       "<g class=\"displacy-arrow\">\n",
       "    <path class=\"displacy-arc\" id=\"arrow-13bdeb545efd41d2afdf44023bd2f4c2-0-13\" stroke-width=\"2px\" d=\"M1170,202.0 C1170,52.0 1445.0,52.0 1445.0,202.0\" fill=\"none\" stroke=\"currentColor\"/>\n",
       "    <text dy=\"1.25em\" style=\"font-size: 0.8em; letter-spacing: 1px\">\n",
       "        <textPath xlink:href=\"#arrow-13bdeb545efd41d2afdf44023bd2f4c2-0-13\" class=\"displacy-label\" startOffset=\"50%\" side=\"left\" fill=\"currentColor\" text-anchor=\"middle\">conj</textPath>\n",
       "    </text>\n",
       "    <path class=\"displacy-arrowhead\" d=\"M1445.0,204.0 L1453.0,192.0 1437.0,192.0\" fill=\"currentColor\"/>\n",
       "</g>\n",
       "\n",
       "<g class=\"displacy-arrow\">\n",
       "    <path class=\"displacy-arc\" id=\"arrow-13bdeb545efd41d2afdf44023bd2f4c2-0-14\" stroke-width=\"2px\" d=\"M1170,202.0 C1170,2.0 1550.0,2.0 1550.0,202.0\" fill=\"none\" stroke=\"currentColor\"/>\n",
       "    <text dy=\"1.25em\" style=\"font-size: 0.8em; letter-spacing: 1px\">\n",
       "        <textPath xlink:href=\"#arrow-13bdeb545efd41d2afdf44023bd2f4c2-0-14\" class=\"displacy-label\" startOffset=\"50%\" side=\"left\" fill=\"currentColor\" text-anchor=\"middle\">conj</textPath>\n",
       "    </text>\n",
       "    <path class=\"displacy-arrowhead\" d=\"M1550.0,204.0 L1558.0,192.0 1542.0,192.0\" fill=\"currentColor\"/>\n",
       "</g>\n",
       "</svg></span>"
      ],
      "text/plain": [
       "<IPython.core.display.HTML object>"
      ]
     },
     "metadata": {},
     "output_type": "display_data"
    },
    {
     "data": {
      "text/html": [
       "<span class=\"tex2jax_ignore\"><div class=\"entities\" style=\"line-height: 2.5; direction: ltr\">\n",
       "<mark class=\"entity\" style=\"background: #aa9cfc; padding: 0.45em 0.6em; margin: 0 0.25em; line-height: 1; border-radius: 0.35em;\">\n",
       "    Donald Trump\n",
       "    <span style=\"font-size: 0.8em; font-weight: bold; line-height: 1; border-radius: 0.35em; text-transform: uppercase; vertical-align: middle; margin-left: 0.5rem\">PERSON</span>\n",
       "</mark>\n",
       " called and asked me to serve as his running mate and Vice Presidential nominee.</div></span>"
      ],
      "text/plain": [
       "<IPython.core.display.HTML object>"
      ]
     },
     "metadata": {},
     "output_type": "display_data"
    }
   ],
   "source": [
    "displacy.render(doc, style='dep', jupyter=True, options={'distance': 100})\n",
    "displacy.render(doc, style='ent', jupyter=True)"
   ]
  },
  {
   "cell_type": "code",
   "execution_count": 17,
   "metadata": {},
   "outputs": [],
   "source": [
    "text_sports = train_data[train_data.label == 2]\n",
    "\n",
    "text = \" \".join(text_sports.text.tolist())\n",
    "doc_text = nlp(text[:200000])"
   ]
  },
  {
   "cell_type": "code",
   "execution_count": 18,
   "metadata": {},
   "outputs": [
    {
     "data": {
      "text/plain": [
       "[('gold medal', 61),\n",
       " ('united states', 55),\n",
       " ('athens olympics', 42),\n",
       " ('michael phelps', 36),\n",
       " ('new york', 30),\n",
       " ('olympic games', 26),\n",
       " ('athens games', 25),\n",
       " ('red sox', 24),\n",
       " ('greek sprinters', 23),\n",
       " ('gold medals', 19)]"
      ]
     },
     "execution_count": 18,
     "metadata": {},
     "output_type": "execute_result"
    }
   ],
   "source": [
    "import textacy\n",
    "from textacy.extract import ngrams\n",
    "from collections import Counter\n",
    "\n",
    "Counter([ng.text.lower() for n in [2,4] for ng in ngrams(doc_text, n)]).most_common(10)"
   ]
  },
  {
   "cell_type": "code",
   "execution_count": 19,
   "metadata": {},
   "outputs": [
    {
     "data": {
      "text/plain": [
       "[('ATHENS', 0.005758175344719127),\n",
       " ('olympic', 0.005730339488932911),\n",
       " ('team', 0.0051234532394023626),\n",
       " ('Olympics', 0.005063945635677879),\n",
       " ('Tuesday', 0.0048017104336469645),\n",
       " ('gold', 0.00450994905319776),\n",
       " ('year', 0.004509167537888593),\n",
       " ('Wednesday', 0.004111372705267326),\n",
       " ('night', 0.0040835550554210055),\n",
       " ('Games', 0.0038775935022269457)]"
      ]
     },
     "execution_count": 19,
     "metadata": {},
     "output_type": "execute_result"
    }
   ],
   "source": [
    "from textacy import keyterms\n",
    "\n",
    "keyterms.textrank(\n",
    "    doc_text,\n",
    "    normalize = \"lemma\",\n",
    "    n_keyterms=10,\n",
    ")\n"
   ]
  },
  {
   "cell_type": "code",
   "execution_count": 20,
   "metadata": {},
   "outputs": [
    {
     "data": {
      "text/plain": [
       "[('team gold medal Tuesday night', 0.030096281119690375),\n",
       " ('relay olympic gold medal Wednesday', 0.02695844675473994),\n",
       " ('day event olympic gold medal', 0.02619382924971546),\n",
       " ('Michael Phelps win second gold medal', 0.024357551187573056),\n",
       " ('time trial gold medal Wednesday', 0.02257479509790246),\n",
       " ('fourth consecutive olympic gold medal', 0.022413447253468676),\n",
       " ('olympic tennis gold medal', 0.022350736527098243),\n",
       " ('straight olympic softball gold medal', 0.022047105004311996),\n",
       " ('olympic swimming gold medal', 0.02178026995572801),\n",
       " ('possible eight olympic gold medal', 0.02169097086836476)]"
      ]
     },
     "execution_count": 20,
     "metadata": {},
     "output_type": "execute_result"
    }
   ],
   "source": [
    "textacy.keyterms.singlerank(\n",
    "    doc_text,\n",
    "    normalize = \"lemma\",\n",
    "    n_keyterms=10,\n",
    ")"
   ]
  },
  {
   "cell_type": "code",
   "execution_count": 21,
   "metadata": {},
   "outputs": [],
   "source": [
    "import math\n",
    "from collections import Counter \n",
    "words = [tok for tok in doc_text if tok.is_alpha and not tok.is_stop]\n",
    "word_probs = {tok.text.lower(): tok.prob for tok in words}\n",
    "\n",
    "freqs = Counter(tok.text for tok in words)"
   ]
  },
  {
   "cell_type": "code",
   "execution_count": 22,
   "metadata": {},
   "outputs": [
    {
     "name": "stdout",
     "output_type": "stream",
     "text": [
      "5589\n"
     ]
    },
    {
     "data": {
      "image/png": "[encoded data removed]",
      "text/plain": [
       "<IPython.core.display.Image object>"
      ]
     },
     "execution_count": 22,
     "metadata": {},
     "output_type": "execute_result"
    }
   ],
   "source": [
    "from wordcloud import WordCloud\n",
    "print(len(freqs))\n",
    "wordcloud = WordCloud(background_color=\"white\", max_words=30, scale=1.5).generate_from_frequencies(freqs)\n",
    "image = wordcloud.to_image()\n",
    "image.save(\"./wordcloud.png\")\n",
    "\n",
    "from IPython.display import Image \n",
    "Image(filename='./wordcloud.png')"
   ]
  },
  {
   "cell_type": "markdown",
   "metadata": {},
   "source": [
    "# Training a ML model"
   ]
  },
  {
   "cell_type": "code",
   "execution_count": 23,
   "metadata": {},
   "outputs": [],
   "source": [
    "sample_df = train_data.groupby('label').apply(lambda x: x.sample(frac=0.2))"
   ]
  },
  {
   "cell_type": "markdown",
   "metadata": {},
   "source": [
    "We add a new column to the table which will contain the cleaned and preprocessed text"
   ]
  },
  {
   "cell_type": "code",
   "execution_count": 24,
   "metadata": {},
   "outputs": [
    {
     "name": "stderr",
     "output_type": "stream",
     "text": [
      "100%|██████████| 24000/24000 [09:57<00:00, 40.20it/s]\n"
     ]
    },
    {
     "data": {
      "text/html": [
       "<div>\n",
       "<style scoped>\n",
       "    .dataframe tbody tr th:only-of-type {\n",
       "        vertical-align: middle;\n",
       "    }\n",
       "\n",
       "    .dataframe tbody tr th {\n",
       "        vertical-align: top;\n",
       "    }\n",
       "\n",
       "    .dataframe thead th {\n",
       "        text-align: right;\n",
       "    }\n",
       "</style>\n",
       "<table border=\"1\" class=\"dataframe\">\n",
       "  <thead>\n",
       "    <tr style=\"text-align: right;\">\n",
       "      <th></th>\n",
       "      <th></th>\n",
       "      <th>label</th>\n",
       "      <th>text</th>\n",
       "      <th>clean_text</th>\n",
       "    </tr>\n",
       "    <tr>\n",
       "      <th>label</th>\n",
       "      <th></th>\n",
       "      <th></th>\n",
       "      <th></th>\n",
       "      <th></th>\n",
       "    </tr>\n",
       "  </thead>\n",
       "  <tbody>\n",
       "    <tr>\n",
       "      <th rowspan=\"5\" valign=\"top\">1</th>\n",
       "      <th>58742</th>\n",
       "      <td>1</td>\n",
       "      <td>White House Sounds Out Europeans on Iran (AP),...</td>\n",
       "      <td>[White, House, sound, Europeans, Iran, Bush, a...</td>\n",
       "    </tr>\n",
       "    <tr>\n",
       "      <th>116113</th>\n",
       "      <td>1</td>\n",
       "      <td>Family wins inquiry into killing of prisoner s...</td>\n",
       "      <td>[family, win, inquiry, killing, prisoner, son,...</td>\n",
       "    </tr>\n",
       "    <tr>\n",
       "      <th>46441</th>\n",
       "      <td>1</td>\n",
       "      <td>UN Rights Officials Tell Security Council Inte...</td>\n",
       "      <td>[UN, Rights, Officials, Tell, Security, Counci...</td>\n",
       "    </tr>\n",
       "    <tr>\n",
       "      <th>111733</th>\n",
       "      <td>1</td>\n",
       "      <td>Analysis: Psst! Intifada #39;s over,It was a t...</td>\n",
       "      <td>[analysis, Psst, Intifada, telling, sign, seni...</td>\n",
       "    </tr>\n",
       "    <tr>\n",
       "      <th>94124</th>\n",
       "      <td>1</td>\n",
       "      <td>Afghan militants to decide fate of UN hostages...</td>\n",
       "      <td>[afghan, militant, decide, fate, UN, hostage, ...</td>\n",
       "    </tr>\n",
       "  </tbody>\n",
       "</table>\n",
       "</div>"
      ],
      "text/plain": [
       "              label                                               text  \\\n",
       "label                                                                    \n",
       "1     58742       1  White House Sounds Out Europeans on Iran (AP),...   \n",
       "      116113      1  Family wins inquiry into killing of prisoner s...   \n",
       "      46441       1  UN Rights Officials Tell Security Council Inte...   \n",
       "      111733      1  Analysis: Psst! Intifada #39;s over,It was a t...   \n",
       "      94124       1  Afghan militants to decide fate of UN hostages...   \n",
       "\n",
       "                                                     clean_text  \n",
       "label                                                            \n",
       "1     58742   [White, House, sound, Europeans, Iran, Bush, a...  \n",
       "      116113  [family, win, inquiry, killing, prisoner, son,...  \n",
       "      46441   [UN, Rights, Officials, Tell, Security, Counci...  \n",
       "      111733  [analysis, Psst, Intifada, telling, sign, seni...  \n",
       "      94124   [afghan, militant, decide, fate, UN, hostage, ...  "
      ]
     },
     "execution_count": 24,
     "metadata": {},
     "output_type": "execute_result"
    }
   ],
   "source": [
    "from tqdm import tqdm\n",
    "\n",
    "clean_text = []\n",
    "for text in tqdm(sample_df['text']):\n",
    "    doc = nlp(text)\n",
    "    words = []\n",
    "    for tok in doc:\n",
    "        if not tok.is_stop and tok.is_alpha:\n",
    "            words.append(tok.lemma_)\n",
    "    clean_text.append(words)\n",
    "\n",
    "# Add cleaned text to dataframe\n",
    "sample_df['clean_text'] = clean_text\n",
    "sample_df.head()"
   ]
  },
  {
   "cell_type": "code",
   "execution_count": 25,
   "metadata": {},
   "outputs": [],
   "source": [
    "labels = sample_df.label\n",
    "data = sample_df['clean_text']"
   ]
  },
  {
   "cell_type": "code",
   "execution_count": 26,
   "metadata": {},
   "outputs": [],
   "source": [
    "import gensim\n",
    "from tqdm import tqdm\n",
    "from sklearn.model_selection import train_test_split as split\n",
    "import numpy as np"
   ]
  },
  {
   "cell_type": "code",
   "execution_count": 27,
   "metadata": {},
   "outputs": [],
   "source": [
    "# We use the pretrained glove embedding\n",
    "# To handle the Seq2Vec method, we take the mean of the word-vectors\n",
    "def vectorize(tr_data, tst_data):\n",
    "    print('\\nLoading existing glove model...')\n",
    "    embedding_file = \"glove.6B.100d.txt\"\n",
    "\n",
    "    model = gensim.models.KeyedVectors.load_word2vec_format(embedding_file, binary=False)\n",
    "    vectorizer = model.wv\n",
    "    vocab_length = len(model.wv.vocab)\n",
    "    \n",
    "    tr_vectors = [\n",
    "        np.array(np.mean([vectorizer[word] if word in model else np.zeros((100,)) for word in article], axis=0)) for article in tqdm(tr_data,'Vectorizing')\n",
    "    ]\n",
    "    \n",
    "    tst_vectors = [\n",
    "        np.array(np.mean([vectorizer[word] if word in model else np.zeros((100,)) for word in article], axis=0)) for article in tqdm(tst_data,'Vectorizing')\n",
    "    ]\n",
    "    \n",
    "    return tr_vectors, tst_vectors"
   ]
  },
  {
   "cell_type": "code",
   "execution_count": 28,
   "metadata": {},
   "outputs": [],
   "source": [
    "def get_features_and_labels(data, labels):\n",
    "    tr_data,tst_data,tr_labels,tst_labels = split(data,labels,test_size=0.3)\n",
    "    \n",
    "    tst_vecs = []\n",
    "    tr_vecs = []\n",
    "    tr_vecs, tst_vecs = vectorize(tr_data, tst_data)    \n",
    "    return tr_vecs, tr_labels, tst_vecs, tst_labels"
   ]
  },
  {
   "cell_type": "code",
   "execution_count": 29,
   "metadata": {},
   "outputs": [
    {
     "name": "stdout",
     "output_type": "stream",
     "text": [
      "\n",
      "Loading existing glove model...\n"
     ]
    },
    {
     "name": "stderr",
     "output_type": "stream",
     "text": [
      "/home/adaamko/miniconda3/lib/python3.7/site-packages/ipykernel_launcher.py:8: DeprecationWarning: Call to deprecated `wv` (Attribute will be removed in 4.0.0, use self instead).\n",
      "  \n",
      "/home/adaamko/miniconda3/lib/python3.7/site-packages/ipykernel_launcher.py:9: DeprecationWarning: Call to deprecated `wv` (Attribute will be removed in 4.0.0, use self instead).\n",
      "  if __name__ == '__main__':\n",
      "Vectorizing: 100%|██████████| 16800/16800 [00:02<00:00, 7273.17it/s]\n",
      "Vectorizing: 100%|██████████| 7200/7200 [00:00<00:00, 7448.40it/s]\n"
     ]
    }
   ],
   "source": [
    "tr_vecs, tr_labels, tst_vecs, tst_labels = get_features_and_labels(data, labels)"
   ]
  },
  {
   "cell_type": "code",
   "execution_count": 30,
   "metadata": {},
   "outputs": [],
   "source": [
    "from sklearn.ensemble import RandomForestClassifier, AdaBoostClassifier\n",
    "from sklearn.svm import SVC\n",
    "from sklearn.linear_model import LogisticRegression\n",
    "from sklearn.pipeline import Pipeline\n",
    "from sklearn.model_selection import cross_val_score"
   ]
  },
  {
   "cell_type": "markdown",
   "metadata": {},
   "source": [
    "### You can try different classifiers as well\n",
    "- Multiple are available from [scikit-learn](https://scikit-learn.org/stable/auto_examples/classification/plot_classifier_comparison.html)"
   ]
  },
  {
   "cell_type": "code",
   "execution_count": 31,
   "metadata": {},
   "outputs": [],
   "source": [
    "rf  =  RandomForestClassifier(n_estimators=100, verbose=True, n_jobs=-1)\n",
    "svc = SVC()\n",
    "lr  = LogisticRegression(n_jobs=-1)"
   ]
  },
  {
   "cell_type": "code",
   "execution_count": 32,
   "metadata": {},
   "outputs": [
    {
     "name": "stderr",
     "output_type": "stream",
     "text": [
      "[Parallel(n_jobs=-1)]: Using backend ThreadingBackend with 16 concurrent workers.\n",
      "[Parallel(n_jobs=-1)]: Done  18 tasks      | elapsed:    0.8s\n",
      "[Parallel(n_jobs=-1)]: Done 100 out of 100 | elapsed:    2.6s finished\n"
     ]
    },
    {
     "data": {
      "text/plain": [
       "LogisticRegression(n_jobs=-1)"
      ]
     },
     "execution_count": 32,
     "metadata": {},
     "output_type": "execute_result"
    }
   ],
   "source": [
    "rf.fit(tr_vecs, tr_labels)\n",
    "svc.fit(tr_vecs, tr_labels)\n",
    "lr.fit(tr_vecs, tr_labels)"
   ]
  },
  {
   "cell_type": "code",
   "execution_count": 33,
   "metadata": {},
   "outputs": [
    {
     "name": "stdout",
     "output_type": "stream",
     "text": [
      "<class 'list'>\n"
     ]
    },
    {
     "name": "stderr",
     "output_type": "stream",
     "text": [
      "[Parallel(n_jobs=16)]: Using backend ThreadingBackend with 16 concurrent workers.\n",
      "[Parallel(n_jobs=16)]: Done  18 tasks      | elapsed:    0.1s\n",
      "[Parallel(n_jobs=16)]: Done 100 out of 100 | elapsed:    0.1s finished\n"
     ]
    },
    {
     "name": "stdout",
     "output_type": "stream",
     "text": [
      "Random Forest Test accuracy : 0.8304166666666667\n",
      "SVC Test accuracy : 0.8523611111111111\n",
      "Logistic Regression Test accuracy : 0.8430555555555556\n"
     ]
    }
   ],
   "source": [
    "from sklearn.metrics import accuracy_score\n",
    "print(type(tst_vecs))\n",
    "rf_pred = rf.predict(tst_vecs)\n",
    "svc_pred = svc.predict(tst_vecs)\n",
    "lr_pred = lr.predict(tst_vecs)\n",
    "print(\"Random Forest Test accuracy : {}\".format(accuracy_score(tst_labels, rf_pred)))\n",
    "print(\"SVC Test accuracy : {}\".format(accuracy_score(tst_labels, svc_pred)))\n",
    "print(\"Logistic Regression Test accuracy : {}\".format(accuracy_score(tst_labels, lr_pred)))"
   ]
  },
  {
   "cell_type": "code",
   "execution_count": 34,
   "metadata": {},
   "outputs": [],
   "source": [
    "test_data.to_csv(\"dataset_test.csv\", index=False)\n",
    "train_data.to_csv(\"dataset_train.csv\", index=False)"
   ]
  },
  {
   "attachments": {},
   "cell_type": "markdown",
   "metadata": {},
   "source": [
    "## Recurrent neural networks\n",
    "\n",
    "In NLP, recurrent neural networks (RNN) are commonly used to analyse sequences. It takes in a sequence of words, one at a time, and produces hidden states ($h$) after each steps. RNN-s are used recurrently by feeding in the current word and the hidden state from the previous word.\n",
    "\n",
    "Once we have our final hidden state, $h_T$, (from feeding in the last word in the sequence, $x_T$) we feed it through a linear layer, $f$ (fully connected layer) to reduce the dimension into the dimension of the labels.\n",
    "\n",
    "![rnn](https://github.com/bentrevett/pytorch-sentiment-analysis/raw/79bb86abc9e89951a5f8c4a25ca5de6a491a4f5d/assets/sentiment1.png)\n",
    "\n",
    "_(image from bentrevett)_\n",
    "\n",
    "\n",
    "![rnn2](https://miro.medium.com/max/1400/1*WMnFSJHzOloFlJHU6fVN-g.gif)\n",
    "\n",
    "![rnn3](https://miro.medium.com/max/770/1*o-Cq5U8-tfa1_ve2Pf3nfg.gif)\n",
    "\n"
   ]
  },
  {
   "cell_type": "markdown",
   "metadata": {},
   "source": [
    "### LSTM\n",
    "\n",
    "One of the biggest problem of recurrent neural networks is the vanishing gradient problem. It happens when the gradient shrinks during bakcpropagarion. If it becomes very small, the network stops learning. This mostly happen when long sentences are present. LSTM networks address this problem by having an inner memory cell to remember important information or forget others. LSTM has a similar flow as a RNN, it processes data and passes information as it propagates forward. The difference is in the operations within the cells.\n",
    "\n",
    "![lstm](https://miro.medium.com/max/770/1*0f8r3Vd-i4ueYND1CUrhMA.png)\n",
    "\n",
    "__LSTM__ consists of:\n",
    "\n",
    "- __Forget gate__\n",
    "    - Decides what information should be kept or thrown away\n",
    "    - Information from the previous hidden state and from the current input\n",
    "\n",
    "![forget](https://miro.medium.com/max/770/1*GjehOa513_BgpDDP6Vkw2Q.gif)\n",
    "\n",
    "- __Input gate__\n",
    "    - Decides what information is relevant to add from the current step\n",
    "\n",
    "![input](https://miro.medium.com/max/770/1*TTmYy7Sy8uUXxUXfzmoKbA.gif)\n",
    "\n",
    "- __Cell state__\n",
    "\n",
    "![cell](https://miro.medium.com/max/770/1*S0rXIeO_VoUVOyrYHckUWg.gif)\n",
    "\n",
    "- __Output gate__\n",
    "    - Determines what the next hidden state should be\n",
    "\n",
    "![lstm2](https://miro.medium.com/max/770/1*VOXRGhOShoWWks6ouoDN3Q.gif)\n",
    "\n",
    "_(images from [link](https://towardsdatascience.com/illustrated-guide-to-lstms-and-gru-s-a-step-by-step-explanation-44e9eb85bf21))_\n"
   ]
  },
  {
   "cell_type": "code",
   "execution_count": null,
   "metadata": {},
   "outputs": [],
   "source": []
  }
 ],
 "metadata": {
  "kernelspec": {
   "display_name": "Python 3.7.3 64-bit ('base': conda)",
   "language": "python",
   "name": "python37364bitbaseconda27c4385cd81d42338dc23456e05b5ed4"
  },
  "language_info": {
   "codemirror_mode": {
    "name": "ipython",
    "version": 3
   },
   "file_extension": ".py",
   "mimetype": "text/x-python",
   "name": "python",
   "nbconvert_exporter": "python",
   "pygments_lexer": "ipython3",
   "version": "3.7.3"
  }
 },
 "nbformat": 4,
 "nbformat_minor": 2
}
